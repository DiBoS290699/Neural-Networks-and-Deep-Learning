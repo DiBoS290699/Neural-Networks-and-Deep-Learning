{
  "cells": [
    {
      "cell_type": "markdown",
      "metadata": {
        "id": "i9t2URccQQi8"
      },
      "source": [
        "# Лабораторная работа 3\n",
        "\n",
        "# Борисов Д.С., группа 6233-010402D"
      ]
    },
    {
      "cell_type": "markdown",
      "metadata": {
        "id": "4XWSe5yUQQi-"
      },
      "source": [
        "1) Полносвязная нейронная сеть ( Fully-Connected Neural Network)\n",
        "\n",
        "2) Нормализация по мини-батчам (Batch normalization)\n",
        "\n",
        "3) Dropout\n",
        "\n",
        "4) Сверточные нейронные сети (Convolutional Networks)"
      ]
    },
    {
      "cell_type": "markdown",
      "metadata": {
        "id": "KdkCjOMKQQjA"
      },
      "source": [
        "Лабораторные работы можно выполнять с использованием сервиса Google Colaboratory (https://medium.com/deep-learning-turkey/google-colab-free-gpu-tutorial-e113627b9f5d) или на локальном компьютере. "
      ]
    },
    {
      "cell_type": "markdown",
      "metadata": {
        "id": "xo4wEJ1aQQjB"
      },
      "source": [
        "# Полносвязная нейронная сеть"
      ]
    },
    {
      "cell_type": "markdown",
      "metadata": {
        "id": "jxEV6sI_QQjB"
      },
      "source": [
        "В данной лабораторной работе необходимо будет реализовать полносвязную нейронную сеть, используя модульный подход. Для каждого  слоя реализации прямого и обратного проходов алгоритма обратного распространения ошибки будут иметь следующий вид:\n",
        "\n",
        "```python\n",
        "def layer_forward(x, w):\n",
        "  \"\"\" Receive inputs x and weights w \"\"\"\n",
        "  # Do some computations ...\n",
        "  z = # ... some intermediate value\n",
        "  # Do some more computations ...\n",
        "  out = # the output\n",
        "   \n",
        "  cache = (x, w, z, out) # Values we need to compute gradients\n",
        "   \n",
        "  return out, cache\n",
        "```\n",
        "\n",
        "\n",
        "\n",
        "```python\n",
        "def layer_backward(dout, cache):\n",
        "  \"\"\"\n",
        "  Receive dout (derivative of loss with respect to outputs) and cache,\n",
        "  and compute derivative with respect to inputs.\n",
        "  \"\"\"\n",
        "  # Unpack cache values\n",
        "  x, w, z, out = cache\n",
        "  \n",
        "  # Use values in cache to compute derivatives\n",
        "  dx = # Derivative of loss with respect to x\n",
        "  dw = # Derivative of loss with respect to w\n",
        "  \n",
        "  return dx, dw\n",
        "```\n",
        "\n",
        "    "
      ]
    },
    {
      "cell_type": "code",
      "execution_count": 1,
      "metadata": {
        "id": "2yfV9WKPQQjC"
      },
      "outputs": [],
      "source": [
        "from __future__ import print_function\n",
        "import time\n",
        "import numpy as np\n",
        "import matplotlib.pyplot as plt\n",
        "from scripts.classifiers.fc_net import *\n",
        "\n",
        "from scripts.gradient_check import eval_numerical_gradient, eval_numerical_gradient_array\n",
        "from scripts.solver import Solver\n",
        "from scripts.classifiers.cnn import *\n",
        "from scripts.layers import *\n",
        "from scripts.fast_layers import *\n",
        "\n",
        "\n",
        "%matplotlib inline\n",
        "plt.rcParams['figure.figsize'] = (10.0, 8.0)  \n",
        "plt.rcParams['image.interpolation'] = 'nearest'\n",
        "plt.rcParams['image.cmap'] = 'gray'\n",
        "\n",
        "# for auto-reloading external modules\n",
        "# see http://stackoverflow.com/questions/1907993/autoreload-of-modules-in-ipython\n",
        "%load_ext autoreload\n",
        "%autoreload 2\n",
        "\n",
        "def rel_error(x, y):\n",
        "  \"\"\" returns relative error \"\"\"\n",
        "  return np.max(np.abs(x - y) / (np.maximum(1e-8, np.abs(x) + np.abs(y))))\n",
        "def print_mean_std(x,axis=0):\n",
        "    print('  means: ', x.mean(axis=axis))\n",
        "    print('  stds:  ', x.std(axis=axis))\n",
        "    print() "
      ]
    },
    {
      "cell_type": "markdown",
      "metadata": {
        "id": "c_jXlcbmQQjF"
      },
      "source": [
        "Загрузите данные из предыдущей лабораторной работы. "
      ]
    },
    {
      "cell_type": "code",
      "execution_count": 2,
      "metadata": {
        "id": "QmsKGRj0QQjH"
      },
      "outputs": [],
      "source": [
        "from scripts.data_utils import get_CIFAR10_data\n",
        "\n",
        "data = get_CIFAR10_data()"
      ]
    },
    {
      "cell_type": "markdown",
      "metadata": {
        "id": "1zVG-WPoQQjH"
      },
      "source": [
        "Для полносвязного слоя реализуйте прямой проход (метод affine_forward в scripts/layers.py). Протестируйте свою реализацию. "
      ]
    },
    {
      "cell_type": "code",
      "execution_count": 3,
      "metadata": {
        "colab": {
          "base_uri": "https://localhost:8080/"
        },
        "id": "KoCWmPbuQQjI",
        "outputId": "21ccd9d2-ebbf-4a30-e4ae-5f27f5ffab21"
      },
      "outputs": [
        {
          "output_type": "stream",
          "name": "stdout",
          "text": [
            "Testing affine_forward function:\n",
            "difference:  9.769849468192957e-10\n"
          ]
        }
      ],
      "source": [
        "num_inputs = 2\n",
        "input_shape = (4, 5, 6)\n",
        "output_dim = 3\n",
        "\n",
        "input_size = num_inputs * np.prod(input_shape)\n",
        "weight_size = output_dim * np.prod(input_shape)\n",
        "\n",
        "x = np.linspace(-0.1, 0.5, num=input_size).reshape(num_inputs, *input_shape)\n",
        "w = np.linspace(-0.2, 0.3, num=weight_size).reshape(np.prod(input_shape), output_dim)\n",
        "b = np.linspace(-0.3, 0.1, num=output_dim)\n",
        "\n",
        "out, _ = affine_forward(x, w, b)\n",
        "correct_out = np.array([[ 1.49834967,  1.70660132,  1.91485297],\n",
        "                        [ 3.25553199,  3.5141327,   3.77273342]])\n",
        "\n",
        "\n",
        "print('Testing affine_forward function:')\n",
        "print('difference: ', rel_error(out, correct_out))"
      ]
    },
    {
      "cell_type": "markdown",
      "metadata": {
        "id": "KI8VhXYAQQjI"
      },
      "source": [
        "Для полносвязного слоя реализуйте обратный проход (метод affine_backward в scripts/layers.py). Протестируйте свою реализацию. "
      ]
    },
    {
      "cell_type": "code",
      "execution_count": 4,
      "metadata": {
        "colab": {
          "base_uri": "https://localhost:8080/"
        },
        "id": "o87UAsEPQQjJ",
        "outputId": "afd93b5b-61a4-4463-a9ee-b5526daad1e2"
      },
      "outputs": [
        {
          "output_type": "stream",
          "name": "stdout",
          "text": [
            "Testing affine_backward function:\n",
            "dx error:  5.399100368651805e-11\n",
            "dw error:  9.904211865398145e-11\n",
            "db error:  2.4122867568119087e-11\n"
          ]
        }
      ],
      "source": [
        "np.random.seed(231)\n",
        "x = np.random.randn(10, 2, 3)\n",
        "w = np.random.randn(6, 5)\n",
        "b = np.random.randn(5)\n",
        "dout = np.random.randn(10, 5)\n",
        "\n",
        "dx_num = eval_numerical_gradient_array(lambda x: affine_forward(x, w, b)[0], x, dout)\n",
        "dw_num = eval_numerical_gradient_array(lambda w: affine_forward(x, w, b)[0], w, dout)\n",
        "db_num = eval_numerical_gradient_array(lambda b: affine_forward(x, w, b)[0], b, dout)\n",
        "\n",
        "_, cache = affine_forward(x, w, b)\n",
        "dx, dw, db = affine_backward(dout, cache)\n",
        "\n",
        "print('Testing affine_backward function:')\n",
        "print('dx error: ', rel_error(dx_num, dx))\n",
        "print('dw error: ', rel_error(dw_num, dw))\n",
        "print('db error: ', rel_error(db_num, db))"
      ]
    },
    {
      "cell_type": "markdown",
      "metadata": {
        "id": "Uv51THaeQQjJ"
      },
      "source": [
        "Реализуйте прямой проход для слоя активации ReLU (relu_forward) и протестируйте его."
      ]
    },
    {
      "cell_type": "code",
      "execution_count": 5,
      "metadata": {
        "colab": {
          "base_uri": "https://localhost:8080/"
        },
        "id": "BxIyVOfqQQjK",
        "outputId": "22a72b65-c430-4da0-f62c-19aaea48ce56"
      },
      "outputs": [
        {
          "output_type": "stream",
          "name": "stdout",
          "text": [
            "Testing relu_forward function:\n",
            "difference:  4.999999798022158e-08\n"
          ]
        }
      ],
      "source": [
        "x = np.linspace(-0.5, 0.5, num=12).reshape(3, 4)\n",
        "\n",
        "out, _ = relu_forward(x)\n",
        "correct_out = np.array([[ 0.,          0.,          0.,          0.,        ],\n",
        "                        [ 0.,          0.,          0.04545455,  0.13636364,],\n",
        "                        [ 0.22727273,  0.31818182,  0.40909091,  0.5,       ]])\n",
        "\n",
        "# Compare your output with ours. The error should be on the order of e-8\n",
        "print('Testing relu_forward function:')\n",
        "print('difference: ', rel_error(out, correct_out))"
      ]
    },
    {
      "cell_type": "markdown",
      "metadata": {
        "id": "9etJikWVQQjK"
      },
      "source": [
        "Реализуйте обратный проход для слоя активации ReLU (relu_backward ) и протестируйте его."
      ]
    },
    {
      "cell_type": "code",
      "execution_count": 6,
      "metadata": {
        "colab": {
          "base_uri": "https://localhost:8080/"
        },
        "id": "bd4bBI-hQQjK",
        "outputId": "e5ab2e74-6265-479d-8c01-0209a409c01b"
      },
      "outputs": [
        {
          "output_type": "stream",
          "name": "stdout",
          "text": [
            "Testing relu_backward function:\n",
            "dx error:  3.2756349136310288e-12\n"
          ]
        }
      ],
      "source": [
        "np.random.seed(231)\n",
        "x = np.random.randn(10, 10)\n",
        "dout = np.random.randn(*x.shape)\n",
        "\n",
        "dx_num = eval_numerical_gradient_array(lambda x: relu_forward(x)[0], x, dout)\n",
        "\n",
        "_, cache = relu_forward(x)\n",
        "dx = relu_backward(dout, cache)\n",
        "\n",
        "# The error should be on the order of e-12\n",
        "print('Testing relu_backward function:')\n",
        "print('dx error: ', rel_error(dx_num, dx))"
      ]
    },
    {
      "cell_type": "markdown",
      "metadata": {
        "id": "Wq9_ZC5NQQjK"
      },
      "source": [
        "В скрипте /layer_utils.py приведены реализации прямого и обратного проходов для часто используемых комбинаций слоев. Например, за полносвязным слоем часто следует слой активации. Ознакомьтесь с функциями affine_relu_forward и affine_relu_backward, запустите код ниже и убедитесь, что ошибка порядка e-10 или ниже. "
      ]
    },
    {
      "cell_type": "code",
      "execution_count": 7,
      "metadata": {
        "colab": {
          "base_uri": "https://localhost:8080/"
        },
        "id": "LJr7t75uQQjL",
        "outputId": "547b6536-1f22-4ba3-977e-c08dc8f4b1f4"
      },
      "outputs": [
        {
          "output_type": "stream",
          "name": "stdout",
          "text": [
            "Testing affine_relu_forward and affine_relu_backward:\n",
            "dx error:  2.299579177309368e-11\n",
            "dw error:  8.162011105764925e-11\n",
            "db error:  7.826724021458994e-12\n"
          ]
        }
      ],
      "source": [
        "from scripts.layer_utils import affine_relu_forward, affine_relu_backward\n",
        "np.random.seed(231)\n",
        "x = np.random.randn(2, 3, 4)\n",
        "w = np.random.randn(12, 10)\n",
        "b = np.random.randn(10)\n",
        "dout = np.random.randn(2, 10)\n",
        "\n",
        "out, cache = affine_relu_forward(x, w, b)\n",
        "dx, dw, db = affine_relu_backward(dout, cache)\n",
        "\n",
        "dx_num = eval_numerical_gradient_array(lambda x: affine_relu_forward(x, w, b)[0], x, dout)\n",
        "dw_num = eval_numerical_gradient_array(lambda w: affine_relu_forward(x, w, b)[0], w, dout)\n",
        "db_num = eval_numerical_gradient_array(lambda b: affine_relu_forward(x, w, b)[0], b, dout)\n",
        "\n",
        "# Relative error should be around e-10 or less\n",
        "print('Testing affine_relu_forward and affine_relu_backward:')\n",
        "print('dx error: ', rel_error(dx_num, dx))\n",
        "print('dw error: ', rel_error(dw_num, dw))\n",
        "print('db error: ', rel_error(db_num, db))"
      ]
    },
    {
      "cell_type": "markdown",
      "metadata": {
        "id": "IxP15SkeQQjL"
      },
      "source": [
        "Реализуйте двухслойную полносвязную сеть - класс TwoLayerNet в scripts/classifiers/fc_net.py . Проверьте свою реализацию, запустив код ниже. "
      ]
    },
    {
      "cell_type": "code",
      "execution_count": 8,
      "metadata": {
        "colab": {
          "base_uri": "https://localhost:8080/"
        },
        "id": "dMAuXVtbQQjL",
        "outputId": "5bd0d83e-e118-46ed-f3d4-76bbc5369a1f"
      },
      "outputs": [
        {
          "output_type": "stream",
          "name": "stdout",
          "text": [
            "Testing initialization ... \n",
            "Testing test-time forward pass ... \n",
            "Testing training loss (no regularization)\n",
            "Running numeric gradient check with reg =  0.0\n",
            "W1 relative error: 1.83e-08\n",
            "W2 relative error: 3.12e-10\n",
            "b1 relative error: 9.83e-09\n",
            "b2 relative error: 4.33e-10\n",
            "Running numeric gradient check with reg =  0.7\n",
            "W1 relative error: 2.53e-07\n",
            "W2 relative error: 2.85e-08\n",
            "b1 relative error: 1.56e-08\n",
            "b2 relative error: 7.76e-10\n"
          ]
        }
      ],
      "source": [
        "np.random.seed(231)\n",
        "N, D, H, C = 3, 5, 50, 7\n",
        "X = np.random.randn(N, D)\n",
        "y = np.random.randint(C, size=N)\n",
        "\n",
        "std = 1e-3\n",
        "model = TwoLayerNet(input_dim=D, hidden_dim=H, num_classes=C, weight_scale=std)\n",
        "\n",
        "print('Testing initialization ... ')\n",
        "W1_std = abs(model.params['W1'].std() - std)\n",
        "b1 = model.params['b1']\n",
        "W2_std = abs(model.params['W2'].std() - std)\n",
        "b2 = model.params['b2']\n",
        "assert W1_std < std / 10, 'First layer weights do not seem right'\n",
        "assert np.all(b1 == 0), 'First layer biases do not seem right'\n",
        "assert W2_std < std / 10, 'Second layer weights do not seem right'\n",
        "assert np.all(b2 == 0), 'Second layer biases do not seem right'\n",
        "\n",
        "print('Testing test-time forward pass ... ')\n",
        "model.params['W1'] = np.linspace(-0.7, 0.3, num=D*H).reshape(D, H)\n",
        "model.params['b1'] = np.linspace(-0.1, 0.9, num=H)\n",
        "model.params['W2'] = np.linspace(-0.3, 0.4, num=H*C).reshape(H, C)\n",
        "model.params['b2'] = np.linspace(-0.9, 0.1, num=C)\n",
        "X = np.linspace(-5.5, 4.5, num=N*D).reshape(D, N).T\n",
        "scores = model.loss(X)\n",
        "correct_scores = np.asarray(\n",
        "  [[11.53165108,  12.2917344,   13.05181771,  13.81190102,  14.57198434, 15.33206765,  16.09215096],\n",
        "   [12.05769098,  12.74614105,  13.43459113,  14.1230412,   14.81149128, 15.49994135,  16.18839143],\n",
        "   [12.58373087,  13.20054771,  13.81736455,  14.43418138,  15.05099822, 15.66781506,  16.2846319 ]])\n",
        "scores_diff = np.abs(scores - correct_scores).sum()\n",
        "assert scores_diff < 1e-6, 'Problem with test-time forward pass'\n",
        "\n",
        "print('Testing training loss (no regularization)')\n",
        "y = np.asarray([0, 5, 1])\n",
        "loss, grads = model.loss(X, y)\n",
        "correct_loss = 3.4702243556\n",
        "assert abs(loss - correct_loss) < 1e-10, 'Problem with training-time loss'\n",
        "\n",
        "model.reg = 1.0\n",
        "loss, grads = model.loss(X, y)\n",
        "correct_loss = 26.5948426952\n",
        "assert abs(loss - correct_loss) < 1e-10, 'Problem with regularization loss'\n",
        "\n",
        "# Errors should be around e-7 or less\n",
        "for reg in [0.0, 0.7]:\n",
        "  print('Running numeric gradient check with reg = ', reg)\n",
        "  model.reg = reg\n",
        "  loss, grads = model.loss(X, y)\n",
        "\n",
        "  for name in sorted(grads):\n",
        "    f = lambda _: model.loss(X, y)[0]\n",
        "    grad_num = eval_numerical_gradient(f, model.params[name], verbose=False)\n",
        "    print('%s relative error: %.2e' % (name, rel_error(grad_num, grads[name])))"
      ]
    },
    {
      "cell_type": "markdown",
      "metadata": {
        "id": "CuiqPU4rQQjM"
      },
      "source": [
        "Ознакомьтесь с API для обучения и тестирования моделей в scripts/solver.py . Используйте экземпляр класса Solver для обучения двухслойной полносвязной сети. Необходимо достичь минимум 50% верно классифицированных объектов на валидационном наборе. "
      ]
    },
    {
      "cell_type": "code",
      "execution_count": 9,
      "metadata": {
        "colab": {
          "base_uri": "https://localhost:8080/"
        },
        "id": "ACFdujybQQjM",
        "outputId": "45cee94f-f97b-4140-ea32-f71961c72308"
      },
      "outputs": [
        {
          "output_type": "stream",
          "name": "stdout",
          "text": [
            "(Iteration 1 / 2940) loss: 2.332096\n",
            "(Epoch 0 / 6) train acc: 0.164000; val_acc: 0.134000\n",
            "(Iteration 101 / 2940) loss: 1.857220\n",
            "(Iteration 201 / 2940) loss: 2.000576\n",
            "(Iteration 301 / 2940) loss: 1.651815\n",
            "(Iteration 401 / 2940) loss: 1.538214\n",
            "(Epoch 1 / 6) train acc: 0.450000; val_acc: 0.454000\n",
            "(Iteration 501 / 2940) loss: 1.608869\n",
            "(Iteration 601 / 2940) loss: 1.501398\n",
            "(Iteration 701 / 2940) loss: 1.615213\n",
            "(Iteration 801 / 2940) loss: 1.656747\n",
            "(Iteration 901 / 2940) loss: 1.468052\n",
            "(Epoch 2 / 6) train acc: 0.484000; val_acc: 0.472000\n",
            "(Iteration 1001 / 2940) loss: 1.505273\n",
            "(Iteration 1101 / 2940) loss: 1.503323\n",
            "(Iteration 1201 / 2940) loss: 1.418404\n",
            "(Iteration 1301 / 2940) loss: 1.356568\n",
            "(Iteration 1401 / 2940) loss: 1.507079\n",
            "(Epoch 3 / 6) train acc: 0.519000; val_acc: 0.475000\n",
            "(Iteration 1501 / 2940) loss: 1.405298\n",
            "(Iteration 1601 / 2940) loss: 1.425098\n",
            "(Iteration 1701 / 2940) loss: 1.388389\n",
            "(Iteration 1801 / 2940) loss: 1.559448\n",
            "(Iteration 1901 / 2940) loss: 1.469148\n",
            "(Epoch 4 / 6) train acc: 0.506000; val_acc: 0.488000\n",
            "(Iteration 2001 / 2940) loss: 1.521458\n",
            "(Iteration 2101 / 2940) loss: 1.452836\n",
            "(Iteration 2201 / 2940) loss: 1.515952\n",
            "(Iteration 2301 / 2940) loss: 1.253438\n",
            "(Iteration 2401 / 2940) loss: 1.329813\n",
            "(Epoch 5 / 6) train acc: 0.546000; val_acc: 0.490000\n",
            "(Iteration 2501 / 2940) loss: 1.385455\n",
            "(Iteration 2601 / 2940) loss: 1.380330\n",
            "(Iteration 2701 / 2940) loss: 1.344157\n",
            "(Iteration 2801 / 2940) loss: 1.516297\n",
            "(Iteration 2901 / 2940) loss: 1.373451\n",
            "(Epoch 6 / 6) train acc: 0.548000; val_acc: 0.519000\n"
          ]
        }
      ],
      "source": [
        "model = TwoLayerNet()\n",
        "solver = None\n",
        "\n",
        "##############################################################################\n",
        "# TODO: Use a Solver instance to train a TwoLayerNet that achieves at least  #\n",
        "# 50% accuracy on the validation set.                                        #\n",
        "##############################################################################\n",
        "# *****START OF YOUR CODE (DO NOT DELETE/MODIFY THIS LINE)*****\n",
        "\n",
        "two_layer_nn_model = TwoLayerNet(hidden_dim=100, reg=0.2)\n",
        "solver = Solver(\n",
        "    model=two_layer_nn_model,\n",
        "    data=data,\n",
        "    update_rule='sgd',\n",
        "    optim_config={'learning_rate': 1e-3},\n",
        "    lr_decay=0.95,\n",
        "    num_epochs=6,\n",
        "    batch_size=100,\n",
        "    print_every=100,\n",
        ")\n",
        "solver.train()\n",
        "\n",
        "# *****END OF YOUR CODE (DO NOT DELETE/MODIFY THIS LINE)*****\n",
        "##############################################################################\n",
        "#                             END OF YOUR CODE                               #\n",
        "##############################################################################"
      ]
    },
    {
      "cell_type": "code",
      "execution_count": 10,
      "metadata": {
        "colab": {
          "base_uri": "https://localhost:8080/",
          "height": 730
        },
        "id": "DKSFT1YiQQjM",
        "outputId": "45a80dd4-2a64-452d-9e49-a277be0cae60"
      },
      "outputs": [
        {
          "output_type": "display_data",
          "data": {
            "text/plain": [
              "<Figure size 1080x864 with 2 Axes>"
            ],
            "image/png": "[encoded data removed]"
          },
          "metadata": {
            "needs_background": "light"
          }
        }
      ],
      "source": [
        "plt.subplot(2, 1, 1)\n",
        "plt.title('Training loss')\n",
        "plt.plot(solver.loss_history, 'o')\n",
        "plt.xlabel('Iteration')\n",
        "\n",
        "plt.subplot(2, 1, 2)\n",
        "plt.title('Accuracy')\n",
        "plt.plot(solver.train_acc_history, '-o', label='train')\n",
        "plt.plot(solver.val_acc_history, '-o', label='val')\n",
        "plt.plot([0.5] * len(solver.val_acc_history), 'k--')\n",
        "plt.xlabel('Epoch')\n",
        "plt.legend(loc='lower right')\n",
        "plt.gcf().set_size_inches(15, 12)\n",
        "plt.show()"
      ]
    },
    {
      "cell_type": "markdown",
      "metadata": {
        "id": "_084yX6-QQjM"
      },
      "source": [
        "Теперь реализуйте полносвязную сеть с произвольным числом скрытых слоев. Ознакомьтесь с классом FullyConnectedNet в scripts/classifiers/fc_net.py . Реализуйте инициализацию, прямой и обратный проходы."
      ]
    },
    {
      "cell_type": "code",
      "execution_count": 11,
      "metadata": {
        "colab": {
          "base_uri": "https://localhost:8080/"
        },
        "id": "CtUYSzOdQQjM",
        "outputId": "8b36affd-b3dc-4e2c-9647-0e6e49ee79db"
      },
      "outputs": [
        {
          "output_type": "stream",
          "name": "stdout",
          "text": [
            "Running check with reg =  0\n",
            "Initial loss:  2.3004790897684924\n",
            "W1 relative error: 1.48e-07\n",
            "W2 relative error: 2.21e-05\n",
            "W3 relative error: 3.53e-07\n",
            "b1 relative error: 5.38e-09\n",
            "b2 relative error: 2.09e-09\n",
            "b3 relative error: 5.80e-11\n",
            "Running check with reg =  3.14\n",
            "Initial loss:  7.052114776533016\n",
            "W1 relative error: 7.36e-09\n",
            "W2 relative error: 6.87e-08\n",
            "W3 relative error: 3.48e-08\n",
            "b1 relative error: 1.48e-08\n",
            "b2 relative error: 1.72e-09\n",
            "b3 relative error: 1.80e-10\n"
          ]
        }
      ],
      "source": [
        "np.random.seed(231)\n",
        "N, D, H1, H2, C = 2, 15, 20, 30, 10\n",
        "X = np.random.randn(N, D)\n",
        "y = np.random.randint(C, size=(N,))\n",
        "\n",
        "for reg in [0, 3.14]:\n",
        "  print('Running check with reg = ', reg)\n",
        "  model = FullyConnectedNet([H1, H2], input_dim=D, num_classes=C,\n",
        "                            reg=reg, weight_scale=5e-2, dtype=np.float64)\n",
        "\n",
        "  loss, grads = model.loss(X, y)\n",
        "  print('Initial loss: ', loss)\n",
        "  \n",
        "  # Most of the errors should be on the order of e-7 or smaller.   \n",
        "  # NOTE: It is fine however to see an error for W2 on the order of e-5\n",
        "  # for the check when reg = 0.0\n",
        "  for name in sorted(grads):\n",
        "    f = lambda _: model.loss(X, y)[0]\n",
        "    grad_num = eval_numerical_gradient(f, model.params[name], verbose=False, h=1e-5)\n",
        "    print('%s relative error: %.2e' % (name, rel_error(grad_num, grads[name])))"
      ]
    },
    {
      "cell_type": "markdown",
      "metadata": {
        "id": "j31xsqXmQQjN"
      },
      "source": [
        "Попробуйте добиться эффекта переобучения на небольшом наборе изображений (например, 50). Используйте трехслойную сеть со 100 нейронами на каждом скрытом слое. Попробуйте переобучить сеть, достигнув 100 % accuracy за 20 эпох. Для этого поэкспериментируйте с параметрами weight_scale и learning_rate. "
      ]
    },
    {
      "cell_type": "code",
      "execution_count": 12,
      "metadata": {
        "colab": {
          "base_uri": "https://localhost:8080/",
          "height": 947
        },
        "id": "fSq_h-uUQQjN",
        "outputId": "21e922be-22b8-4cc6-832e-3f166748dc65"
      },
      "outputs": [
        {
          "output_type": "stream",
          "name": "stdout",
          "text": [
            "(Iteration 1 / 40) loss: 357.428290\n",
            "(Epoch 0 / 20) train acc: 0.220000; val_acc: 0.111000\n",
            "(Epoch 1 / 20) train acc: 0.380000; val_acc: 0.141000\n",
            "(Epoch 2 / 20) train acc: 0.520000; val_acc: 0.138000\n",
            "(Epoch 3 / 20) train acc: 0.740000; val_acc: 0.130000\n",
            "(Epoch 4 / 20) train acc: 0.820000; val_acc: 0.153000\n",
            "(Epoch 5 / 20) train acc: 0.860000; val_acc: 0.175000\n",
            "(Iteration 11 / 40) loss: 6.726589\n",
            "(Epoch 6 / 20) train acc: 0.940000; val_acc: 0.163000\n",
            "(Epoch 7 / 20) train acc: 0.960000; val_acc: 0.166000\n",
            "(Epoch 8 / 20) train acc: 0.960000; val_acc: 0.164000\n",
            "(Epoch 9 / 20) train acc: 0.980000; val_acc: 0.162000\n",
            "(Epoch 10 / 20) train acc: 0.980000; val_acc: 0.162000\n",
            "(Iteration 21 / 40) loss: 0.800243\n",
            "(Epoch 11 / 20) train acc: 1.000000; val_acc: 0.158000\n",
            "(Epoch 12 / 20) train acc: 1.000000; val_acc: 0.158000\n",
            "(Epoch 13 / 20) train acc: 1.000000; val_acc: 0.158000\n",
            "(Epoch 14 / 20) train acc: 1.000000; val_acc: 0.158000\n",
            "(Epoch 15 / 20) train acc: 1.000000; val_acc: 0.158000\n",
            "(Iteration 31 / 40) loss: 0.000000\n",
            "(Epoch 16 / 20) train acc: 1.000000; val_acc: 0.158000\n",
            "(Epoch 17 / 20) train acc: 1.000000; val_acc: 0.158000\n",
            "(Epoch 18 / 20) train acc: 1.000000; val_acc: 0.158000\n",
            "(Epoch 19 / 20) train acc: 1.000000; val_acc: 0.158000\n",
            "(Epoch 20 / 20) train acc: 1.000000; val_acc: 0.158000\n"
          ]
        },
        {
          "output_type": "display_data",
          "data": {
            "text/plain": [
              "<Figure size 720x576 with 1 Axes>"
            ],
            "image/png": "[encoded data removed]"
          },
          "metadata": {
            "needs_background": "light"
          }
        }
      ],
      "source": [
        "# TODO: Use a three-layer Net to overfit 50 training examples by \n",
        "# tweaking just the learning rate and initialization scale.\n",
        "\n",
        "num_train = 50\n",
        "small_data = {\n",
        "  'X_train': data['X_train'][:num_train],\n",
        "  'y_train': data['y_train'][:num_train],\n",
        "  'X_val': data['X_val'],\n",
        "  'y_val': data['y_val'],\n",
        "}\n",
        "\n",
        "weight_scale = 1e-1  # Experiment with this!\n",
        "learning_rate = 1e-3  # Experiment with this!\n",
        "model = FullyConnectedNet([100, 100],\n",
        "              weight_scale=weight_scale, dtype=np.float64)\n",
        "solver = Solver(model, small_data,\n",
        "                print_every=10, num_epochs=20, batch_size=25,\n",
        "                update_rule='sgd',\n",
        "                optim_config={\n",
        "                  'learning_rate': learning_rate,\n",
        "                }\n",
        "         )\n",
        "solver.train()\n",
        "\n",
        "plt.plot(solver.loss_history, 'o')\n",
        "plt.title('Training loss history')\n",
        "plt.xlabel('Iteration')\n",
        "plt.ylabel('Training loss')\n",
        "plt.show()"
      ]
    },
    {
      "cell_type": "markdown",
      "metadata": {
        "id": "5mm9e3lBQQjN"
      },
      "source": [
        "Повторите эксперимент, описанный выше, для пятислойной сети."
      ]
    },
    {
      "cell_type": "code",
      "execution_count": 13,
      "metadata": {
        "colab": {
          "base_uri": "https://localhost:8080/",
          "height": 947
        },
        "id": "XpBh1strQQjN",
        "outputId": "59614162-966a-42e4-95c1-8674b270e287"
      },
      "outputs": [
        {
          "output_type": "stream",
          "name": "stdout",
          "text": [
            "(Iteration 1 / 40) loss: 166.501707\n",
            "(Epoch 0 / 20) train acc: 0.100000; val_acc: 0.107000\n",
            "(Epoch 1 / 20) train acc: 0.320000; val_acc: 0.101000\n",
            "(Epoch 2 / 20) train acc: 0.160000; val_acc: 0.122000\n",
            "(Epoch 3 / 20) train acc: 0.380000; val_acc: 0.106000\n",
            "(Epoch 4 / 20) train acc: 0.520000; val_acc: 0.111000\n",
            "(Epoch 5 / 20) train acc: 0.760000; val_acc: 0.113000\n",
            "(Iteration 11 / 40) loss: 3.343141\n",
            "(Epoch 6 / 20) train acc: 0.840000; val_acc: 0.122000\n",
            "(Epoch 7 / 20) train acc: 0.920000; val_acc: 0.113000\n",
            "(Epoch 8 / 20) train acc: 0.940000; val_acc: 0.125000\n",
            "(Epoch 9 / 20) train acc: 0.960000; val_acc: 0.125000\n",
            "(Epoch 10 / 20) train acc: 0.980000; val_acc: 0.121000\n",
            "(Iteration 21 / 40) loss: 0.039138\n",
            "(Epoch 11 / 20) train acc: 0.980000; val_acc: 0.123000\n",
            "(Epoch 12 / 20) train acc: 1.000000; val_acc: 0.121000\n",
            "(Epoch 13 / 20) train acc: 1.000000; val_acc: 0.121000\n",
            "(Epoch 14 / 20) train acc: 1.000000; val_acc: 0.121000\n",
            "(Epoch 15 / 20) train acc: 1.000000; val_acc: 0.121000\n",
            "(Iteration 31 / 40) loss: 0.000644\n",
            "(Epoch 16 / 20) train acc: 1.000000; val_acc: 0.121000\n",
            "(Epoch 17 / 20) train acc: 1.000000; val_acc: 0.121000\n",
            "(Epoch 18 / 20) train acc: 1.000000; val_acc: 0.121000\n",
            "(Epoch 19 / 20) train acc: 1.000000; val_acc: 0.121000\n",
            "(Epoch 20 / 20) train acc: 1.000000; val_acc: 0.121000\n"
          ]
        },
        {
          "output_type": "display_data",
          "data": {
            "text/plain": [
              "<Figure size 720x576 with 1 Axes>"
            ],
            "image/png": "[encoded data removed]"
          },
          "metadata": {
            "needs_background": "light"
          }
        }
      ],
      "source": [
        "# TODO: Use a five-layer Net to overfit 50 training examples by \n",
        "# tweaking just the learning rate and initialization scale.\n",
        "\n",
        "num_train = 50\n",
        "small_data = {\n",
        "  'X_train': data['X_train'][:num_train],\n",
        "  'y_train': data['y_train'][:num_train],\n",
        "  'X_val': data['X_val'],\n",
        "  'y_val': data['y_val'],\n",
        "}\n",
        "\n",
        "learning_rate = 2e-3  # Experiment with this!\n",
        "weight_scale = 1e-1   # Experiment with this!\n",
        "model = FullyConnectedNet([100, 100, 100, 100],\n",
        "                weight_scale=weight_scale, dtype=np.float64)\n",
        "solver = Solver(model, small_data,\n",
        "                print_every=10, num_epochs=20, batch_size=25,\n",
        "                update_rule='sgd',\n",
        "                optim_config={\n",
        "                  'learning_rate': learning_rate,\n",
        "                }\n",
        "         )\n",
        "solver.train()\n",
        "\n",
        "plt.plot(solver.loss_history, 'o')\n",
        "plt.title('Training loss history')\n",
        "plt.xlabel('Iteration')\n",
        "plt.ylabel('Training loss')\n",
        "plt.show()"
      ]
    },
    {
      "cell_type": "markdown",
      "metadata": {
        "id": "IsgDRKjdQQjN"
      },
      "source": [
        "Сделайте выводы по проведенному эксперименту. \n",
        "\n",
        "1. Уменьшение `weight_scale` уменьшает разброс весов и увеличивает точность.\n",
        "2. Уменьшение `learning_rate` приводит к более скрупулёзному обучению нейронной сети и к переобучению с увеличением эпохи."
      ]
    },
    {
      "cell_type": "markdown",
      "metadata": {
        "id": "tD8MRf3kQQjO"
      },
      "source": [
        "Ранее обновление весов проходило по правилу SGD. Теперь попробуйте реализовать стохастический градиентный спуск с импульсом (SGD+momentum). http://cs231n.github.io/neural-networks-3/#sgd Реализуйте sgd_momentum в scripts/optim.py  и запустите проверку. "
      ]
    },
    {
      "cell_type": "code",
      "execution_count": 14,
      "metadata": {
        "colab": {
          "base_uri": "https://localhost:8080/"
        },
        "id": "9JbawUPMQQjO",
        "outputId": "b8a91844-aa55-4180-8a95-ec23f0da08a4"
      },
      "outputs": [
        {
          "output_type": "stream",
          "name": "stdout",
          "text": [
            "next_w error:  8.882347033505819e-09\n",
            "velocity error:  4.269287743278663e-09\n"
          ]
        }
      ],
      "source": [
        "from scripts.optim import sgd_momentum\n",
        "\n",
        "N, D = 4, 5\n",
        "w = np.linspace(-0.4, 0.6, num=N*D).reshape(N, D)\n",
        "dw = np.linspace(-0.6, 0.4, num=N*D).reshape(N, D)\n",
        "v = np.linspace(0.6, 0.9, num=N*D).reshape(N, D)\n",
        "\n",
        "config = {'learning_rate': 1e-3, 'velocity': v}\n",
        "next_w, _ = sgd_momentum(w, dw, config=config)\n",
        "\n",
        "expected_next_w = np.asarray([\n",
        "  [ 0.1406,      0.20738947,  0.27417895,  0.34096842,  0.40775789],\n",
        "  [ 0.47454737,  0.54133684,  0.60812632,  0.67491579,  0.74170526],\n",
        "  [ 0.80849474,  0.87528421,  0.94207368,  1.00886316,  1.07565263],\n",
        "  [ 1.14244211,  1.20923158,  1.27602105,  1.34281053,  1.4096    ]])\n",
        "expected_velocity = np.asarray([\n",
        "  [ 0.5406,      0.55475789,  0.56891579, 0.58307368,  0.59723158],\n",
        "  [ 0.61138947,  0.62554737,  0.63970526,  0.65386316,  0.66802105],\n",
        "  [ 0.68217895,  0.69633684,  0.71049474,  0.72465263,  0.73881053],\n",
        "  [ 0.75296842,  0.76712632,  0.78128421,  0.79544211,  0.8096    ]])\n",
        "\n",
        "# Should see relative errors around e-8 or less\n",
        "print('next_w error: ', rel_error(next_w, expected_next_w))\n",
        "print('velocity error: ', rel_error(expected_velocity, config['velocity']))"
      ]
    },
    {
      "cell_type": "markdown",
      "metadata": {
        "id": "CzmDVCNdQQjO"
      },
      "source": [
        "Сравните результаты обучения шестислойной сети, обученной классическим градиентным спуском и адаптивным алгоритмом с импульсом. Какой алгоритм сходится быстрее."
      ]
    },
    {
      "cell_type": "code",
      "execution_count": 15,
      "metadata": {
        "colab": {
          "base_uri": "https://localhost:8080/",
          "height": 1000
        },
        "id": "xkGgXwpvQQjO",
        "outputId": "e530dd7e-e402-4b73-e0d1-57f713cfdf50"
      },
      "outputs": [
        {
          "output_type": "stream",
          "name": "stdout",
          "text": [
            "running with  sgd\n",
            "(Iteration 1 / 200) loss: 2.559978\n",
            "(Epoch 0 / 5) train acc: 0.104000; val_acc: 0.107000\n",
            "(Iteration 11 / 200) loss: 2.356069\n",
            "(Iteration 21 / 200) loss: 2.214091\n",
            "(Iteration 31 / 200) loss: 2.205928\n",
            "(Epoch 1 / 5) train acc: 0.225000; val_acc: 0.193000\n",
            "(Iteration 41 / 200) loss: 2.132095\n",
            "(Iteration 51 / 200) loss: 2.118950\n",
            "(Iteration 61 / 200) loss: 2.116443\n",
            "(Iteration 71 / 200) loss: 2.132549\n",
            "(Epoch 2 / 5) train acc: 0.298000; val_acc: 0.260000\n",
            "(Iteration 81 / 200) loss: 1.977227\n",
            "(Iteration 91 / 200) loss: 2.007528\n",
            "(Iteration 101 / 200) loss: 2.004762\n",
            "(Iteration 111 / 200) loss: 1.885342\n",
            "(Epoch 3 / 5) train acc: 0.343000; val_acc: 0.287000\n",
            "(Iteration 121 / 200) loss: 1.891517\n",
            "(Iteration 131 / 200) loss: 1.923677\n",
            "(Iteration 141 / 200) loss: 1.957743\n",
            "(Iteration 151 / 200) loss: 1.966736\n",
            "(Epoch 4 / 5) train acc: 0.322000; val_acc: 0.305000\n",
            "(Iteration 161 / 200) loss: 1.801483\n",
            "(Iteration 171 / 200) loss: 1.973780\n",
            "(Iteration 181 / 200) loss: 1.666572\n",
            "(Iteration 191 / 200) loss: 1.909494\n",
            "(Epoch 5 / 5) train acc: 0.372000; val_acc: 0.319000\n",
            "\n",
            "running with  sgd_momentum\n",
            "(Iteration 1 / 200) loss: 3.153778\n",
            "(Epoch 0 / 5) train acc: 0.099000; val_acc: 0.088000\n",
            "(Iteration 11 / 200) loss: 2.227203\n",
            "(Iteration 21 / 200) loss: 2.125706\n",
            "(Iteration 31 / 200) loss: 1.932695\n",
            "(Epoch 1 / 5) train acc: 0.307000; val_acc: 0.260000\n",
            "(Iteration 41 / 200) loss: 1.946488\n",
            "(Iteration 51 / 200) loss: 1.778584\n",
            "(Iteration 61 / 200) loss: 1.758119\n",
            "(Iteration 71 / 200) loss: 1.849137\n",
            "(Epoch 2 / 5) train acc: 0.382000; val_acc: 0.322000\n",
            "(Iteration 81 / 200) loss: 2.048671\n",
            "(Iteration 91 / 200) loss: 1.693223\n",
            "(Iteration 101 / 200) loss: 1.511693\n",
            "(Iteration 111 / 200) loss: 1.390754\n",
            "(Epoch 3 / 5) train acc: 0.458000; val_acc: 0.338000\n",
            "(Iteration 121 / 200) loss: 1.670614\n",
            "(Iteration 131 / 200) loss: 1.540271\n",
            "(Iteration 141 / 200) loss: 1.597365\n",
            "(Iteration 151 / 200) loss: 1.609851\n",
            "(Epoch 4 / 5) train acc: 0.490000; val_acc: 0.327000\n",
            "(Iteration 161 / 200) loss: 1.472687\n",
            "(Iteration 171 / 200) loss: 1.378620\n",
            "(Iteration 181 / 200) loss: 1.378175\n",
            "(Iteration 191 / 200) loss: 1.306439\n",
            "(Epoch 5 / 5) train acc: 0.529000; val_acc: 0.369000\n",
            "\n"
          ]
        },
        {
          "output_type": "stream",
          "name": "stderr",
          "text": [
            "/usr/local/lib/python3.7/dist-packages/ipykernel_launcher.py:39: MatplotlibDeprecationWarning: Adding an axes using the same arguments as a previous axes currently reuses the earlier instance.  In a future version, a new instance will always be created and returned.  Meanwhile, this warning can be suppressed, and the future behavior ensured, by passing a unique label to each axes instance.\n",
            "/usr/local/lib/python3.7/dist-packages/ipykernel_launcher.py:42: MatplotlibDeprecationWarning: Adding an axes using the same arguments as a previous axes currently reuses the earlier instance.  In a future version, a new instance will always be created and returned.  Meanwhile, this warning can be suppressed, and the future behavior ensured, by passing a unique label to each axes instance.\n",
            "/usr/local/lib/python3.7/dist-packages/ipykernel_launcher.py:45: MatplotlibDeprecationWarning: Adding an axes using the same arguments as a previous axes currently reuses the earlier instance.  In a future version, a new instance will always be created and returned.  Meanwhile, this warning can be suppressed, and the future behavior ensured, by passing a unique label to each axes instance.\n",
            "/usr/local/lib/python3.7/dist-packages/ipykernel_launcher.py:49: MatplotlibDeprecationWarning: Adding an axes using the same arguments as a previous axes currently reuses the earlier instance.  In a future version, a new instance will always be created and returned.  Meanwhile, this warning can be suppressed, and the future behavior ensured, by passing a unique label to each axes instance.\n"
          ]
        },
        {
          "output_type": "display_data",
          "data": {
            "text/plain": [
              "<Figure size 1080x1080 with 3 Axes>"
            ],
            "image/png": "[encoded data removed]"
          },
          "metadata": {
            "needs_background": "light"
          }
        }
      ],
      "source": [
        "num_train = 4000\n",
        "small_data = {\n",
        "  'X_train': data['X_train'][:num_train],\n",
        "  'y_train': data['y_train'][:num_train],\n",
        "  'X_val': data['X_val'],\n",
        "  'y_val': data['y_val'],\n",
        "}\n",
        "\n",
        "solvers = {}\n",
        "\n",
        "for update_rule in ['sgd', 'sgd_momentum']:\n",
        "  print('running with ', update_rule)\n",
        "  model = FullyConnectedNet([100, 100, 100, 100, 100], weight_scale=5e-2)\n",
        "\n",
        "  solver = Solver(model, small_data,\n",
        "                  num_epochs=5, batch_size=100,\n",
        "                  update_rule=update_rule,\n",
        "                  optim_config={\n",
        "                    'learning_rate': 5e-3,\n",
        "                  },\n",
        "                  verbose=True)\n",
        "  solvers[update_rule] = solver\n",
        "  solver.train()\n",
        "  print()\n",
        "\n",
        "plt.subplot(3, 1, 1)\n",
        "plt.title('Training loss')\n",
        "plt.xlabel('Iteration')\n",
        "\n",
        "plt.subplot(3, 1, 2)\n",
        "plt.title('Training accuracy')\n",
        "plt.xlabel('Epoch')\n",
        "\n",
        "plt.subplot(3, 1, 3)\n",
        "plt.title('Validation accuracy')\n",
        "plt.xlabel('Epoch')\n",
        "\n",
        "for update_rule, solver in solvers.items():\n",
        "  plt.subplot(3, 1, 1)\n",
        "  plt.plot(solver.loss_history, 'o', label=\"loss_%s\" % update_rule)\n",
        "  \n",
        "  plt.subplot(3, 1, 2)\n",
        "  plt.plot(solver.train_acc_history, '-o', label=\"train_acc_%s\" % update_rule)\n",
        "\n",
        "  plt.subplot(3, 1, 3)\n",
        "  plt.plot(solver.val_acc_history, '-o', label=\"val_acc_%s\" % update_rule)\n",
        "  \n",
        "for i in [1, 2, 3]:\n",
        "  plt.subplot(3, 1, i)\n",
        "  plt.legend(loc='upper center', ncol=4)\n",
        "plt.gcf().set_size_inches(15, 15)\n",
        "plt.show()"
      ]
    },
    {
      "cell_type": "markdown",
      "source": [
        "**Вывод:**\n",
        "\n",
        "Согласно результатам сравнения `sgd_momentum` показывает лучшие характеристики точности, чем `sgd`.\n",
        "\n",
        "---"
      ],
      "metadata": {
        "id": "5blvereOwbH5"
      }
    },
    {
      "cell_type": "markdown",
      "metadata": {
        "id": "P9nlrXl-QQjO"
      },
      "source": [
        "Реализуйте алгоритмы RMSProp [1] and Adam [2] с коррекцией смещения  - методы rmsprop и adam . \n",
        "\n",
        "\n",
        "[1] Tijmen Tieleman and Geoffrey Hinton. \"Lecture 6.5-rmsprop: Divide the gradient by a running average of its recent magnitude.\" COURSERA: Neural Networks for Machine Learning 4 (2012).\n",
        "\n",
        "[2] Diederik Kingma and Jimmy Ba, \"Adam: A Method for Stochastic Optimization\", ICLR 2015."
      ]
    },
    {
      "cell_type": "code",
      "execution_count": 16,
      "metadata": {
        "colab": {
          "base_uri": "https://localhost:8080/"
        },
        "id": "DtjRzcHsQQjP",
        "outputId": "d2582847-81cf-430d-9d00-4a9a9a9f1360"
      },
      "outputs": [
        {
          "output_type": "stream",
          "name": "stdout",
          "text": [
            "next_w error:  9.524687511038133e-08\n",
            "cache error:  2.6477955807156126e-09\n"
          ]
        }
      ],
      "source": [
        "# Test RMSProp implementation\n",
        "from scripts.optim import rmsprop\n",
        "\n",
        "N, D = 4, 5\n",
        "w = np.linspace(-0.4, 0.6, num=N*D).reshape(N, D)\n",
        "dw = np.linspace(-0.6, 0.4, num=N*D).reshape(N, D)\n",
        "cache = np.linspace(0.6, 0.9, num=N*D).reshape(N, D)\n",
        "\n",
        "config = {'learning_rate': 1e-2, 'cache': cache}\n",
        "next_w, _ = rmsprop(w, dw, config=config)\n",
        "\n",
        "expected_next_w = np.asarray([\n",
        "  [-0.39223849, -0.34037513, -0.28849239, -0.23659121, -0.18467247],\n",
        "  [-0.132737,   -0.08078555, -0.02881884,  0.02316247,  0.07515774],\n",
        "  [ 0.12716641,  0.17918792,  0.23122175,  0.28326742,  0.33532447],\n",
        "  [ 0.38739248,  0.43947102,  0.49155973,  0.54365823,  0.59576619]])\n",
        "expected_cache = np.asarray([\n",
        "  [ 0.5976,      0.6126277,   0.6277108,   0.64284931,  0.65804321],\n",
        "  [ 0.67329252,  0.68859723,  0.70395734,  0.71937285,  0.73484377],\n",
        "  [ 0.75037008,  0.7659518,   0.78158892,  0.79728144,  0.81302936],\n",
        "  [ 0.82883269,  0.84469141,  0.86060554,  0.87657507,  0.8926    ]])\n",
        "\n",
        "# You should see relative errors around e-7 or less\n",
        "print('next_w error: ', rel_error(expected_next_w, next_w))\n",
        "print('cache error: ', rel_error(expected_cache, config['cache']))"
      ]
    },
    {
      "cell_type": "code",
      "execution_count": 17,
      "metadata": {
        "colab": {
          "base_uri": "https://localhost:8080/"
        },
        "id": "7HQy8BlBQQjP",
        "outputId": "ed78db77-caf9-4df4-b688-742ccc6b25ae"
      },
      "outputs": [
        {
          "output_type": "stream",
          "name": "stdout",
          "text": [
            "next_w error:  1.1395691798535431e-07\n",
            "v error:  4.208314038113071e-09\n",
            "m error:  4.214963193114416e-09\n"
          ]
        }
      ],
      "source": [
        "# Test Adam implementation\n",
        "from scripts.optim import adam\n",
        "\n",
        "N, D = 4, 5\n",
        "w = np.linspace(-0.4, 0.6, num=N*D).reshape(N, D)\n",
        "dw = np.linspace(-0.6, 0.4, num=N*D).reshape(N, D)\n",
        "m = np.linspace(0.6, 0.9, num=N*D).reshape(N, D)\n",
        "v = np.linspace(0.7, 0.5, num=N*D).reshape(N, D)\n",
        "\n",
        "config = {'learning_rate': 1e-2, 'm': m, 'v': v, 't': 5}\n",
        "next_w, _ = adam(w, dw, config=config)\n",
        "\n",
        "expected_next_w = np.asarray([\n",
        "  [-0.40094747, -0.34836187, -0.29577703, -0.24319299, -0.19060977],\n",
        "  [-0.1380274,  -0.08544591, -0.03286534,  0.01971428,  0.0722929],\n",
        "  [ 0.1248705,   0.17744702,  0.23002243,  0.28259667,  0.33516969],\n",
        "  [ 0.38774145,  0.44031188,  0.49288093,  0.54544852,  0.59801459]])\n",
        "expected_v = np.asarray([\n",
        "  [ 0.69966,     0.68908382,  0.67851319,  0.66794809,  0.65738853,],\n",
        "  [ 0.64683452,  0.63628604,  0.6257431,   0.61520571,  0.60467385,],\n",
        "  [ 0.59414753,  0.58362676,  0.57311152,  0.56260183,  0.55209767,],\n",
        "  [ 0.54159906,  0.53110598,  0.52061845,  0.51013645,  0.49966,   ]])\n",
        "expected_m = np.asarray([\n",
        "  [ 0.48,        0.49947368,  0.51894737,  0.53842105,  0.55789474],\n",
        "  [ 0.57736842,  0.59684211,  0.61631579,  0.63578947,  0.65526316],\n",
        "  [ 0.67473684,  0.69421053,  0.71368421,  0.73315789,  0.75263158],\n",
        "  [ 0.77210526,  0.79157895,  0.81105263,  0.83052632,  0.85      ]])\n",
        "\n",
        "# You should see relative errors around e-7 or less\n",
        "print('next_w error: ', rel_error(expected_next_w, next_w))\n",
        "print('v error: ', rel_error(expected_v, config['v']))\n",
        "print('m error: ', rel_error(expected_m, config['m']))"
      ]
    },
    {
      "cell_type": "markdown",
      "metadata": {
        "id": "8PbjOuOLQQjP"
      },
      "source": [
        "Обучите пару глубоких сетей с испольованием RMSProp и Adam алгоритмов обновления весов и сравните результаты обучения."
      ]
    },
    {
      "cell_type": "markdown",
      "metadata": {
        "id": "Z80Zt4DbQQjP"
      },
      "source": [
        "Получите лучшую полносвязную сеть для классификации вашего набора данных. На наборе CIFAR-10 необходимо получить accuracy не ниже 50 % на валидационном наборе."
      ]
    },
    {
      "cell_type": "code",
      "execution_count": 18,
      "metadata": {
        "colab": {
          "base_uri": "https://localhost:8080/"
        },
        "id": "_5ekk5rQQQjP",
        "outputId": "fde4e61f-867b-4ce8-c86d-550754a5a591"
      },
      "outputs": [
        {
          "output_type": "stream",
          "name": "stderr",
          "text": [
            "100%|██████████| 8/8 [07:31<00:00, 56.38s/it]\n"
          ]
        }
      ],
      "source": [
        "best_model = None\n",
        "################################################################################\n",
        "# TODO: Train the best FullyConnectedNet that you can on CIFAR-10. You might   #\n",
        "# find batch/layer normalization and dropout useful. Store your best model in  #\n",
        "# the best_model variable.                                                     #\n",
        "################################################################################\n",
        "# *****START OF YOUR CODE (DO NOT DELETE/MODIFY THIS LINE)*****\n",
        "\n",
        "from tqdm import tqdm\n",
        "from sklearn.model_selection import ParameterGrid\n",
        "import pandas as pd\n",
        "\n",
        "params = {\n",
        "    'weight_scale': [1e-3, 1e-2],\n",
        "    'learning_rate': [1e-4, 1e-3],\n",
        "    'reg': [0.0, 0.1]\n",
        "}\n",
        "\n",
        "df_scores = pd.DataFrame(columns=['model']+list(params.keys())+['valid_accuracy'])\n",
        "\n",
        "index = 0\n",
        "for param_set in tqdm(ParameterGrid(params)):\n",
        "\n",
        "    model = FullyConnectedNet(\n",
        "        hidden_dims=([100, 100, 100, 100]),\n",
        "        reg=param_set['reg'],\n",
        "        weight_scale=param_set['weight_scale'],\n",
        "    )\n",
        "    solver = Solver(\n",
        "        model,\n",
        "        data,\n",
        "        update_rule='adam',\n",
        "        optim_config={'learning_rate': param_set['learning_rate']},\n",
        "        batch_size=100,\n",
        "        num_epochs=10,\n",
        "        verbose=False,\n",
        "    )\n",
        "    solver.train()\n",
        "    val_acc = solver.best_val_acc\n",
        "\n",
        "    df_scores.loc[index] = [model, param_set['weight_scale'], \n",
        "                            param_set['learning_rate'], param_set['reg'], val_acc]\n",
        "\n",
        "    index += 1\n",
        "\n",
        "# *****END OF YOUR CODE (DO NOT DELETE/MODIFY THIS LINE)*****\n",
        "################################################################################\n",
        "#                              END OF YOUR CODE                                #\n",
        "################################################################################"
      ]
    },
    {
      "cell_type": "code",
      "source": [
        "sorted_scores = df_scores.sort_values(by='valid_accuracy', ascending=False, \n",
        "                                      ignore_index=True)\n",
        "sorted_scores"
      ],
      "metadata": {
        "colab": {
          "base_uri": "https://localhost:8080/",
          "height": 300
        },
        "id": "VaPSCGJ5B3v6",
        "outputId": "2f042baa-4087-4916-ffd0-f2c4e13be58e"
      },
      "execution_count": 19,
      "outputs": [
        {
          "output_type": "execute_result",
          "data": {
            "text/plain": [
              "                                               model  weight_scale  \\\n",
              "0  <scripts.classifiers.fc_net.FullyConnectedNet ...         0.010   \n",
              "1  <scripts.classifiers.fc_net.FullyConnectedNet ...         0.001   \n",
              "2  <scripts.classifiers.fc_net.FullyConnectedNet ...         0.010   \n",
              "3  <scripts.classifiers.fc_net.FullyConnectedNet ...         0.001   \n",
              "4  <scripts.classifiers.fc_net.FullyConnectedNet ...         0.010   \n",
              "5  <scripts.classifiers.fc_net.FullyConnectedNet ...         0.001   \n",
              "6  <scripts.classifiers.fc_net.FullyConnectedNet ...         0.010   \n",
              "7  <scripts.classifiers.fc_net.FullyConnectedNet ...         0.001   \n",
              "\n",
              "   learning_rate  reg  valid_accuracy  \n",
              "0         0.0010  0.0           0.547  \n",
              "1         0.0010  0.0           0.527  \n",
              "2         0.0001  0.0           0.516  \n",
              "3         0.0001  0.0           0.440  \n",
              "4         0.0001  0.1           0.119  \n",
              "5         0.0010  0.1           0.119  \n",
              "6         0.0010  0.1           0.119  \n",
              "7         0.0001  0.1           0.112  "
            ],
            "text/html": [
              "\n",
              "  <div id=\"df-d8a086d9-f9c4-4a21-ae63-9238ce48c4ba\">\n",
              "    <div class=\"colab-df-container\">\n",
              "      <div>\n",
              "<style scoped>\n",
              "    .dataframe tbody tr th:only-of-type {\n",
              "        vertical-align: middle;\n",
              "    }\n",
              "\n",
              "    .dataframe tbody tr th {\n",
              "        vertical-align: top;\n",
              "    }\n",
              "\n",
              "    .dataframe thead th {\n",
              "        text-align: right;\n",
              "    }\n",
              "</style>\n",
              "<table border=\"1\" class=\"dataframe\">\n",
              "  <thead>\n",
              "    <tr style=\"text-align: right;\">\n",
              "      <th></th>\n",
              "      <th>model</th>\n",
              "      <th>weight_scale</th>\n",
              "      <th>learning_rate</th>\n",
              "      <th>reg</th>\n",
              "      <th>valid_accuracy</th>\n",
              "    </tr>\n",
              "  </thead>\n",
              "  <tbody>\n",
              "    <tr>\n",
              "      <th>0</th>\n",
              "      <td>&lt;scripts.classifiers.fc_net.FullyConnectedNet ...</td>\n",
              "      <td>0.010</td>\n",
              "      <td>0.0010</td>\n",
              "      <td>0.0</td>\n",
              "      <td>0.547</td>\n",
              "    </tr>\n",
              "    <tr>\n",
              "      <th>1</th>\n",
              "      <td>&lt;scripts.classifiers.fc_net.FullyConnectedNet ...</td>\n",
              "      <td>0.001</td>\n",
              "      <td>0.0010</td>\n",
              "      <td>0.0</td>\n",
              "      <td>0.527</td>\n",
              "    </tr>\n",
              "    <tr>\n",
              "      <th>2</th>\n",
              "      <td>&lt;scripts.classifiers.fc_net.FullyConnectedNet ...</td>\n",
              "      <td>0.010</td>\n",
              "      <td>0.0001</td>\n",
              "      <td>0.0</td>\n",
              "      <td>0.516</td>\n",
              "    </tr>\n",
              "    <tr>\n",
              "      <th>3</th>\n",
              "      <td>&lt;scripts.classifiers.fc_net.FullyConnectedNet ...</td>\n",
              "      <td>0.001</td>\n",
              "      <td>0.0001</td>\n",
              "      <td>0.0</td>\n",
              "      <td>0.440</td>\n",
              "    </tr>\n",
              "    <tr>\n",
              "      <th>4</th>\n",
              "      <td>&lt;scripts.classifiers.fc_net.FullyConnectedNet ...</td>\n",
              "      <td>0.010</td>\n",
              "      <td>0.0001</td>\n",
              "      <td>0.1</td>\n",
              "      <td>0.119</td>\n",
              "    </tr>\n",
              "    <tr>\n",
              "      <th>5</th>\n",
              "      <td>&lt;scripts.classifiers.fc_net.FullyConnectedNet ...</td>\n",
              "      <td>0.001</td>\n",
              "      <td>0.0010</td>\n",
              "      <td>0.1</td>\n",
              "      <td>0.119</td>\n",
              "    </tr>\n",
              "    <tr>\n",
              "      <th>6</th>\n",
              "      <td>&lt;scripts.classifiers.fc_net.FullyConnectedNet ...</td>\n",
              "      <td>0.010</td>\n",
              "      <td>0.0010</td>\n",
              "      <td>0.1</td>\n",
              "      <td>0.119</td>\n",
              "    </tr>\n",
              "    <tr>\n",
              "      <th>7</th>\n",
              "      <td>&lt;scripts.classifiers.fc_net.FullyConnectedNet ...</td>\n",
              "      <td>0.001</td>\n",
              "      <td>0.0001</td>\n",
              "      <td>0.1</td>\n",
              "      <td>0.112</td>\n",
              "    </tr>\n",
              "  </tbody>\n",
              "</table>\n",
              "</div>\n",
              "      <button class=\"colab-df-convert\" onclick=\"convertToInteractive('df-d8a086d9-f9c4-4a21-ae63-9238ce48c4ba')\"\n",
              "              title=\"Convert this dataframe to an interactive table.\"\n",
              "              style=\"display:none;\">\n",
              "        \n",
              "  <svg xmlns=\"http://www.w3.org/2000/svg\" height=\"24px\"viewBox=\"0 0 24 24\"\n",
              "       width=\"24px\">\n",
              "    <path d=\"M0 0h24v24H0V0z\" fill=\"none\"/>\n",
              "    <path d=\"M18.56 5.44l.94 2.06.94-2.06 2.06-.94-2.06-.94-.94-2.06-.94 2.06-2.06.94zm-11 1L8.5 8.5l.94-2.06 2.06-.94-2.06-.94L8.5 2.5l-.94 2.06-2.06.94zm10 10l.94 2.06.94-2.06 2.06-.94-2.06-.94-.94-2.06-.94 2.06-2.06.94z\"/><path d=\"M17.41 7.96l-1.37-1.37c-.4-.4-.92-.59-1.43-.59-.52 0-1.04.2-1.43.59L10.3 9.45l-7.72 7.72c-.78.78-.78 2.05 0 2.83L4 21.41c.39.39.9.59 1.41.59.51 0 1.02-.2 1.41-.59l7.78-7.78 2.81-2.81c.8-.78.8-2.07 0-2.86zM5.41 20L4 18.59l7.72-7.72 1.47 1.35L5.41 20z\"/>\n",
              "  </svg>\n",
              "      </button>\n",
              "      \n",
              "  <style>\n",
              "    .colab-df-container {\n",
              "      display:flex;\n",
              "      flex-wrap:wrap;\n",
              "      gap: 12px;\n",
              "    }\n",
              "\n",
              "    .colab-df-convert {\n",
              "      background-color: #E8F0FE;\n",
              "      border: none;\n",
              "      border-radius: 50%;\n",
              "      cursor: pointer;\n",
              "      display: none;\n",
              "      fill: #1967D2;\n",
              "      height: 32px;\n",
              "      padding: 0 0 0 0;\n",
              "      width: 32px;\n",
              "    }\n",
              "\n",
              "    .colab-df-convert:hover {\n",
              "      background-color: #E2EBFA;\n",
              "      box-shadow: 0px 1px 2px rgba(60, 64, 67, 0.3), 0px 1px 3px 1px rgba(60, 64, 67, 0.15);\n",
              "      fill: #174EA6;\n",
              "    }\n",
              "\n",
              "    [theme=dark] .colab-df-convert {\n",
              "      background-color: #3B4455;\n",
              "      fill: #D2E3FC;\n",
              "    }\n",
              "\n",
              "    [theme=dark] .colab-df-convert:hover {\n",
              "      background-color: #434B5C;\n",
              "      box-shadow: 0px 1px 3px 1px rgba(0, 0, 0, 0.15);\n",
              "      filter: drop-shadow(0px 1px 2px rgba(0, 0, 0, 0.3));\n",
              "      fill: #FFFFFF;\n",
              "    }\n",
              "  </style>\n",
              "\n",
              "      <script>\n",
              "        const buttonEl =\n",
              "          document.querySelector('#df-d8a086d9-f9c4-4a21-ae63-9238ce48c4ba button.colab-df-convert');\n",
              "        buttonEl.style.display =\n",
              "          google.colab.kernel.accessAllowed ? 'block' : 'none';\n",
              "\n",
              "        async function convertToInteractive(key) {\n",
              "          const element = document.querySelector('#df-d8a086d9-f9c4-4a21-ae63-9238ce48c4ba');\n",
              "          const dataTable =\n",
              "            await google.colab.kernel.invokeFunction('convertToInteractive',\n",
              "                                                     [key], {});\n",
              "          if (!dataTable) return;\n",
              "\n",
              "          const docLinkHtml = 'Like what you see? Visit the ' +\n",
              "            '<a target=\"_blank\" href=https://colab.research.google.com/notebooks/data_table.ipynb>data table notebook</a>'\n",
              "            + ' to learn more about interactive tables.';\n",
              "          element.innerHTML = '';\n",
              "          dataTable['output_type'] = 'display_data';\n",
              "          await google.colab.output.renderOutput(dataTable, element);\n",
              "          const docLink = document.createElement('div');\n",
              "          docLink.innerHTML = docLinkHtml;\n",
              "          element.appendChild(docLink);\n",
              "        }\n",
              "      </script>\n",
              "    </div>\n",
              "  </div>\n",
              "  "
            ]
          },
          "metadata": {},
          "execution_count": 19
        }
      ]
    },
    {
      "cell_type": "code",
      "source": [
        "best_model = sorted_scores.at[0, 'model']"
      ],
      "metadata": {
        "id": "2X2XcRmiDYv-"
      },
      "execution_count": 20,
      "outputs": []
    },
    {
      "cell_type": "markdown",
      "metadata": {
        "id": "ReBoQQagQQjQ"
      },
      "source": [
        "Получите оценку accuracy для валидационной и тестовой выборок. "
      ]
    },
    {
      "cell_type": "code",
      "execution_count": 21,
      "metadata": {
        "colab": {
          "base_uri": "https://localhost:8080/"
        },
        "id": "j0OqL7cQQQjQ",
        "outputId": "c60b351d-f8b0-4965-b5d2-647ddd99e970"
      },
      "outputs": [
        {
          "output_type": "stream",
          "name": "stdout",
          "text": [
            "Validation set accuracy:  0.547\n",
            "Test set accuracy:  0.504\n"
          ]
        }
      ],
      "source": [
        "y_test_pred = np.argmax(best_model.loss(data['X_test']), axis=1)\n",
        "y_val_pred = np.argmax(best_model.loss(data['X_val']), axis=1)\n",
        "print('Validation set accuracy: ', (y_val_pred == data['y_val']).mean())\n",
        "print('Test set accuracy: ', (y_test_pred == data['y_test']).mean())"
      ]
    },
    {
      "cell_type": "markdown",
      "metadata": {
        "id": "hZzF6eWKQQjQ"
      },
      "source": [
        "# Нормализация по мини-батчам\n",
        "\n",
        "Идея нормализации по мини-батчам предложена в работе [1]\n",
        "\n",
        "[1] Sergey Ioffe and Christian Szegedy, \"Batch Normalization: Accelerating Deep Network Training by Reducing Internal Covariate Shift\", ICML 2015."
      ]
    },
    {
      "cell_type": "markdown",
      "metadata": {
        "id": "zutj2VglQQjQ"
      },
      "source": [
        "Реализуйте прямой проход для слоя батч-нормализации - функция batchnorm_forward в scripts/layers.py . Проверьте свою реализацию, запустив следующий код:"
      ]
    },
    {
      "cell_type": "code",
      "execution_count": 22,
      "metadata": {
        "colab": {
          "base_uri": "https://localhost:8080/"
        },
        "id": "NmzKzlGSQQjQ",
        "outputId": "fb5a4e0a-a0fe-4f5f-d779-4bdf3ce4004e"
      },
      "outputs": [
        {
          "output_type": "stream",
          "name": "stdout",
          "text": [
            "Before batch normalization:\n",
            "  means:  [ -2.3814598  -13.18038246   1.91780462]\n",
            "  stds:   [27.18502186 34.21455511 37.68611762]\n",
            "\n",
            "After batch normalization (gamma=1, beta=0)\n",
            "  means:  [5.99520433e-17 6.93889390e-17 8.32667268e-19]\n",
            "  stds:   [0.99999999 1.         1.        ]\n",
            "\n",
            "After batch normalization (gamma= [1. 2. 3.] , beta= [11. 12. 13.] )\n",
            "  means:  [11. 12. 13.]\n",
            "  stds:   [0.99999999 1.99999999 2.99999999]\n",
            "\n"
          ]
        }
      ],
      "source": [
        "# Check the training-time forward pass by checking means and variances\n",
        "# of features both before and after batch normalization   \n",
        "\n",
        "# Simulate the forward pass for a two-layer network\n",
        "np.random.seed(231)\n",
        "N, D1, D2, D3 = 200, 50, 60, 3\n",
        "X = np.random.randn(N, D1)\n",
        "W1 = np.random.randn(D1, D2)\n",
        "W2 = np.random.randn(D2, D3)\n",
        "a = np.maximum(0, X.dot(W1)).dot(W2)\n",
        "\n",
        "print('Before batch normalization:')\n",
        "print_mean_std(a,axis=0)\n",
        "\n",
        "gamma = np.ones((D3,))\n",
        "beta = np.zeros((D3,))\n",
        "# Means should be close to zero and stds close to one\n",
        "print('After batch normalization (gamma=1, beta=0)')\n",
        "a_norm, _ = batchnorm_forward(a, gamma, beta, {'mode': 'train'})\n",
        "print_mean_std(a_norm,axis=0)\n",
        "\n",
        "gamma = np.asarray([1.0, 2.0, 3.0])\n",
        "beta = np.asarray([11.0, 12.0, 13.0])\n",
        "# Now means should be close to beta and stds close to gamma\n",
        "print('After batch normalization (gamma=', gamma, ', beta=', beta, ')')\n",
        "a_norm, _ = batchnorm_forward(a, gamma, beta, {'mode': 'train'})\n",
        "print_mean_std(a_norm,axis=0)"
      ]
    },
    {
      "cell_type": "code",
      "execution_count": 23,
      "metadata": {
        "colab": {
          "base_uri": "https://localhost:8080/"
        },
        "id": "ttzUYRH1QQjQ",
        "outputId": "bf2639aa-747a-4b1f-bbbd-f73d99fec15e"
      },
      "outputs": [
        {
          "output_type": "stream",
          "name": "stdout",
          "text": [
            "After batch normalization (test-time):\n",
            "  means:  [-0.03927354 -0.04349152 -0.10452688]\n",
            "  stds:   [1.01531428 1.01238373 0.97819988]\n",
            "\n"
          ]
        }
      ],
      "source": [
        "# Check the test-time forward pass by running the training-time\n",
        "# forward pass many times to warm up the running averages, and then\n",
        "# checking the means and variances of activations after a test-time\n",
        "# forward pass.\n",
        "\n",
        "np.random.seed(231)\n",
        "N, D1, D2, D3 = 200, 50, 60, 3\n",
        "W1 = np.random.randn(D1, D2)\n",
        "W2 = np.random.randn(D2, D3)\n",
        "\n",
        "bn_param = {'mode': 'train'}\n",
        "gamma = np.ones(D3)\n",
        "beta = np.zeros(D3)\n",
        "\n",
        "for t in range(50):\n",
        "  X = np.random.randn(N, D1)\n",
        "  a = np.maximum(0, X.dot(W1)).dot(W2)\n",
        "  batchnorm_forward(a, gamma, beta, bn_param)\n",
        "\n",
        "bn_param['mode'] = 'test'\n",
        "X = np.random.randn(N, D1)\n",
        "a = np.maximum(0, X.dot(W1)).dot(W2)\n",
        "a_norm, _ = batchnorm_forward(a, gamma, beta, bn_param)\n",
        "\n",
        "# Means should be close to zero and stds close to one, but will be\n",
        "# noisier than training-time forward passes.\n",
        "print('After batch normalization (test-time):')\n",
        "print_mean_std(a_norm,axis=0)"
      ]
    },
    {
      "cell_type": "markdown",
      "metadata": {
        "id": "GUM1s5yIQQjT"
      },
      "source": [
        "Реализуйте обратный проход в функции batchnorm_backward."
      ]
    },
    {
      "cell_type": "code",
      "execution_count": 24,
      "metadata": {
        "colab": {
          "base_uri": "https://localhost:8080/"
        },
        "id": "IaMIbtOyQQjU",
        "outputId": "09c1c4d9-5075-4730-a614-2f56979df0f0"
      },
      "outputs": [
        {
          "output_type": "stream",
          "name": "stdout",
          "text": [
            "dx error:  1.6674604875341426e-09\n",
            "dgamma error:  7.417225040694815e-13\n",
            "dbeta error:  2.379446949959628e-12\n"
          ]
        }
      ],
      "source": [
        "# Gradient check batchnorm backward pass\n",
        "np.random.seed(231)\n",
        "N, D = 4, 5\n",
        "x = 5 * np.random.randn(N, D) + 12\n",
        "gamma = np.random.randn(D)\n",
        "beta = np.random.randn(D)\n",
        "dout = np.random.randn(N, D)\n",
        "\n",
        "bn_param = {'mode': 'train'}\n",
        "fx = lambda x: batchnorm_forward(x, gamma, beta, bn_param)[0]\n",
        "fg = lambda a: batchnorm_forward(x, a, beta, bn_param)[0]\n",
        "fb = lambda b: batchnorm_forward(x, gamma, b, bn_param)[0]\n",
        "\n",
        "dx_num = eval_numerical_gradient_array(fx, x, dout)\n",
        "da_num = eval_numerical_gradient_array(fg, gamma.copy(), dout)\n",
        "db_num = eval_numerical_gradient_array(fb, beta.copy(), dout)\n",
        "\n",
        "_, cache = batchnorm_forward(x, gamma, beta, bn_param)\n",
        "dx, dgamma, dbeta = batchnorm_backward(dout, cache)\n",
        "#You should expect to see relative errors between 1e-13 and 1e-8\n",
        "print('dx error: ', rel_error(dx_num, dx))\n",
        "print('dgamma error: ', rel_error(da_num, dgamma))\n",
        "print('dbeta error: ', rel_error(db_num, dbeta))"
      ]
    },
    {
      "cell_type": "markdown",
      "metadata": {
        "id": "K0_F66nbQQjU"
      },
      "source": [
        "Измените реализацию класса FullyConnectedNet, добавив батч-нормализацию. \n",
        "Если флаг normalization == \"batchnorm\", то вам необходимо вставить слой батч-нормализации перед каждым слоем активации ReLU, кроме выхода сети. "
      ]
    },
    {
      "cell_type": "code",
      "execution_count": 25,
      "metadata": {
        "colab": {
          "base_uri": "https://localhost:8080/"
        },
        "id": "jYLs_u6rQQjU",
        "outputId": "6570dce2-d2d6-4fb1-8dec-277d6d273816"
      },
      "outputs": [
        {
          "output_type": "stream",
          "name": "stdout",
          "text": [
            "Running check with reg =  0\n",
            "Initial loss:  2.2611955101340957\n",
            "W1 relative error: 1.10e-04\n",
            "W2 relative error: 3.11e-06\n",
            "W3 relative error: 4.05e-10\n",
            "b1 relative error: 4.44e-08\n",
            "b2 relative error: 2.22e-08\n",
            "b3 relative error: 1.01e-10\n",
            "beta1 relative error: 7.33e-09\n",
            "beta2 relative error: 1.89e-09\n",
            "gamma1 relative error: 6.96e-09\n",
            "gamma2 relative error: 2.41e-09\n",
            "\n",
            "Running check with reg =  3.14\n",
            "Initial loss:  6.996533220108303\n",
            "W1 relative error: 1.98e-06\n",
            "W2 relative error: 2.28e-06\n",
            "W3 relative error: 1.11e-08\n",
            "b1 relative error: 5.55e-09\n",
            "b2 relative error: 2.22e-08\n",
            "b3 relative error: 2.10e-10\n",
            "beta1 relative error: 6.65e-09\n",
            "beta2 relative error: 3.39e-09\n",
            "gamma1 relative error: 6.27e-09\n",
            "gamma2 relative error: 5.28e-09\n"
          ]
        }
      ],
      "source": [
        "np.random.seed(231)\n",
        "N, D, H1, H2, C = 2, 15, 20, 30, 10\n",
        "X = np.random.randn(N, D)\n",
        "y = np.random.randint(C, size=(N,))\n",
        "\n",
        "# You should expect losses between 1e-4~1e-10 for W, \n",
        "# losses between 1e-08~1e-10 for b,\n",
        "# and losses between 1e-08~1e-09 for beta and gammas.\n",
        "for reg in [0, 3.14]:\n",
        "  print('Running check with reg = ', reg)\n",
        "  model = FullyConnectedNet([H1, H2], input_dim=D, num_classes=C,\n",
        "                            reg=reg, weight_scale=5e-2, dtype=np.float64,\n",
        "                            normalization='batchnorm')\n",
        "\n",
        "  loss, grads = model.loss(X, y)\n",
        "  print('Initial loss: ', loss)\n",
        "\n",
        "  for name in sorted(grads):\n",
        "    f = lambda _: model.loss(X, y)[0]\n",
        "    grad_num = eval_numerical_gradient(f, model.params[name], verbose=False, h=1e-5)\n",
        "    print('%s relative error: %.2e' % (name, rel_error(grad_num, grads[name])))\n",
        "  if reg == 0: print()"
      ]
    },
    {
      "cell_type": "markdown",
      "metadata": {
        "id": "Ok0P5IOXQQjU"
      },
      "source": [
        "Обучите 6-ти слойную сеть на наборе из 1000 изображений с батч-нормализацией и без нее"
      ]
    },
    {
      "cell_type": "code",
      "execution_count": 26,
      "metadata": {
        "colab": {
          "base_uri": "https://localhost:8080/"
        },
        "id": "FfA4GDjLQQjU",
        "outputId": "1d50b9de-598c-43be-c0a4-ac90e2e0ca08"
      },
      "outputs": [
        {
          "output_type": "stream",
          "name": "stdout",
          "text": [
            "Solver with batch norm:\n",
            "(Iteration 1 / 200) loss: 2.340974\n",
            "(Epoch 0 / 10) train acc: 0.107000; val_acc: 0.115000\n",
            "(Epoch 1 / 10) train acc: 0.314000; val_acc: 0.266000\n",
            "(Iteration 21 / 200) loss: 2.039365\n",
            "(Epoch 2 / 10) train acc: 0.385000; val_acc: 0.279000\n",
            "(Iteration 41 / 200) loss: 2.041103\n",
            "(Epoch 3 / 10) train acc: 0.494000; val_acc: 0.308000\n",
            "(Iteration 61 / 200) loss: 1.753902\n",
            "(Epoch 4 / 10) train acc: 0.531000; val_acc: 0.307000\n",
            "(Iteration 81 / 200) loss: 1.246584\n",
            "(Epoch 5 / 10) train acc: 0.574000; val_acc: 0.313000\n",
            "(Iteration 101 / 200) loss: 1.320589\n",
            "(Epoch 6 / 10) train acc: 0.634000; val_acc: 0.338000\n",
            "(Iteration 121 / 200) loss: 1.157328\n",
            "(Epoch 7 / 10) train acc: 0.690000; val_acc: 0.324000\n",
            "(Iteration 141 / 200) loss: 1.145714\n",
            "(Epoch 8 / 10) train acc: 0.767000; val_acc: 0.324000\n",
            "(Iteration 161 / 200) loss: 0.690185\n",
            "(Epoch 9 / 10) train acc: 0.796000; val_acc: 0.330000\n",
            "(Iteration 181 / 200) loss: 0.976138\n",
            "(Epoch 10 / 10) train acc: 0.776000; val_acc: 0.306000\n",
            "\n",
            "Solver without batch norm:\n",
            "(Iteration 1 / 200) loss: 2.302332\n",
            "(Epoch 0 / 10) train acc: 0.129000; val_acc: 0.131000\n",
            "(Epoch 1 / 10) train acc: 0.283000; val_acc: 0.250000\n",
            "(Iteration 21 / 200) loss: 2.041970\n",
            "(Epoch 2 / 10) train acc: 0.316000; val_acc: 0.277000\n",
            "(Iteration 41 / 200) loss: 1.900473\n",
            "(Epoch 3 / 10) train acc: 0.373000; val_acc: 0.282000\n",
            "(Iteration 61 / 200) loss: 1.713156\n",
            "(Epoch 4 / 10) train acc: 0.390000; val_acc: 0.310000\n",
            "(Iteration 81 / 200) loss: 1.662209\n",
            "(Epoch 5 / 10) train acc: 0.434000; val_acc: 0.300000\n",
            "(Iteration 101 / 200) loss: 1.696059\n",
            "(Epoch 6 / 10) train acc: 0.535000; val_acc: 0.345000\n",
            "(Iteration 121 / 200) loss: 1.557987\n",
            "(Epoch 7 / 10) train acc: 0.530000; val_acc: 0.304000\n",
            "(Iteration 141 / 200) loss: 1.432189\n",
            "(Epoch 8 / 10) train acc: 0.628000; val_acc: 0.339000\n",
            "(Iteration 161 / 200) loss: 1.034116\n",
            "(Epoch 9 / 10) train acc: 0.654000; val_acc: 0.342000\n",
            "(Iteration 181 / 200) loss: 0.905795\n",
            "(Epoch 10 / 10) train acc: 0.712000; val_acc: 0.328000\n"
          ]
        }
      ],
      "source": [
        "np.random.seed(231)\n",
        "# Try training a very deep net with batchnorm\n",
        "hidden_dims = [100, 100, 100, 100, 100]\n",
        "\n",
        "num_train = 1000\n",
        "small_data = {\n",
        "  'X_train': data['X_train'][:num_train],\n",
        "  'y_train': data['y_train'][:num_train],\n",
        "  'X_val': data['X_val'],\n",
        "  'y_val': data['y_val'],\n",
        "}\n",
        "\n",
        "weight_scale = 2e-2\n",
        "bn_model = FullyConnectedNet(hidden_dims, weight_scale=weight_scale, normalization='batchnorm')\n",
        "model = FullyConnectedNet(hidden_dims, weight_scale=weight_scale, normalization=None)\n",
        "\n",
        "print('Solver with batch norm:')\n",
        "bn_solver = Solver(bn_model, small_data,\n",
        "                num_epochs=10, batch_size=50,\n",
        "                update_rule='adam',\n",
        "                optim_config={\n",
        "                  'learning_rate': 1e-3,\n",
        "                },\n",
        "                verbose=True,print_every=20)\n",
        "bn_solver.train()\n",
        "\n",
        "print('\\nSolver without batch norm:')\n",
        "solver = Solver(model, small_data,\n",
        "                num_epochs=10, batch_size=50,\n",
        "                update_rule='adam',\n",
        "                optim_config={\n",
        "                  'learning_rate': 1e-3,\n",
        "                },\n",
        "                verbose=True, print_every=20)\n",
        "solver.train()"
      ]
    },
    {
      "cell_type": "markdown",
      "metadata": {
        "id": "GVezddBSQQjV"
      },
      "source": [
        "Визуализируйте процесс обучения для двух сетей. Увеличилась ли скорость сходимости в случае с батч-нормализацией? Сделайте выводы. "
      ]
    },
    {
      "cell_type": "code",
      "execution_count": 27,
      "metadata": {
        "colab": {
          "base_uri": "https://localhost:8080/",
          "height": 893
        },
        "id": "fentFNR6QQjV",
        "outputId": "54146e24-9185-405b-d7ed-8f4f1e78b2be"
      },
      "outputs": [
        {
          "output_type": "display_data",
          "data": {
            "text/plain": [
              "<Figure size 1080x1080 with 3 Axes>"
            ],
            "image/png": "[encoded data removed]"
          },
          "metadata": {
            "needs_background": "light"
          }
        }
      ],
      "source": [
        "def plot_training_history(title, label, baseline, bn_solvers, plot_fn, bl_marker='.', bn_marker='.', labels=None):\n",
        "    \"\"\"utility function for plotting training history\"\"\"\n",
        "    plt.title(title)\n",
        "    plt.xlabel(label)\n",
        "    bn_plots = [plot_fn(bn_solver) for bn_solver in bn_solvers]\n",
        "    bl_plot = plot_fn(baseline)\n",
        "    num_bn = len(bn_plots)\n",
        "    for i in range(num_bn):\n",
        "        label='with_norm'\n",
        "        if labels is not None:\n",
        "            label += str(labels[i])\n",
        "        plt.plot(bn_plots[i], bn_marker, label=label)\n",
        "    label='baseline'\n",
        "    if labels is not None:\n",
        "        label += str(labels[0])\n",
        "    plt.plot(bl_plot, bl_marker, label=label)\n",
        "    plt.legend(loc='lower center', ncol=num_bn+1) \n",
        "\n",
        "    \n",
        "plt.subplot(3, 1, 1)\n",
        "plot_training_history('Training loss','Iteration', solver, [bn_solver], \\\n",
        "                      lambda x: x.loss_history, bl_marker='o', bn_marker='o')\n",
        "plt.subplot(3, 1, 2)\n",
        "plot_training_history('Training accuracy','Epoch', solver, [bn_solver], \\\n",
        "                      lambda x: x.train_acc_history, bl_marker='-o', bn_marker='-o')\n",
        "plt.subplot(3, 1, 3)\n",
        "plot_training_history('Validation accuracy','Epoch', solver, [bn_solver], \\\n",
        "                      lambda x: x.val_acc_history, bl_marker='-o', bn_marker='-o')\n",
        "\n",
        "plt.gcf().set_size_inches(15, 15)\n",
        "plt.show()"
      ]
    },
    {
      "cell_type": "markdown",
      "metadata": {
        "id": "WrZP5BhqQQjV"
      },
      "source": [
        "Обучите 6-тислойную сеть с батч-нормализацией и без нее, используя разные размеры батча. Визуализируйте графики обучения. Сделайте выводы по результатам эксперимента. "
      ]
    },
    {
      "cell_type": "code",
      "execution_count": 28,
      "metadata": {
        "colab": {
          "base_uri": "https://localhost:8080/"
        },
        "id": "6rzSeUrZQQjV",
        "outputId": "4d7c1d5b-150c-47b7-c210-1276c30d329e"
      },
      "outputs": [
        {
          "output_type": "stream",
          "name": "stdout",
          "text": [
            "No normalization: batch size =  5\n",
            "Normalization: batch size =  5\n",
            "Normalization: batch size =  10\n",
            "Normalization: batch size =  50\n"
          ]
        }
      ],
      "source": [
        "def run_batchsize_experiments(normalization_mode):\n",
        "    np.random.seed(231)\n",
        "    # Try training a very deep net with batchnorm\n",
        "    hidden_dims = [100, 100, 100, 100, 100]\n",
        "    num_train = 1000\n",
        "    small_data = {\n",
        "      'X_train': data['X_train'][:num_train],\n",
        "      'y_train': data['y_train'][:num_train],\n",
        "      'X_val': data['X_val'],\n",
        "      'y_val': data['y_val'],\n",
        "    }\n",
        "    n_epochs=10\n",
        "    weight_scale = 2e-2\n",
        "    batch_sizes = [5,10,50]\n",
        "    lr = 10**(-3.5)\n",
        "    solver_bsize = batch_sizes[0]\n",
        "\n",
        "    print('No normalization: batch size = ',solver_bsize)\n",
        "    model = FullyConnectedNet(hidden_dims, weight_scale=weight_scale, normalization=None)\n",
        "    solver = Solver(model, small_data,\n",
        "                    num_epochs=n_epochs, batch_size=solver_bsize,\n",
        "                    update_rule='adam',\n",
        "                    optim_config={\n",
        "                      'learning_rate': lr,\n",
        "                    },\n",
        "                    verbose=False)\n",
        "    solver.train()\n",
        "    \n",
        "    bn_solvers = []\n",
        "    for i in range(len(batch_sizes)):\n",
        "        b_size=batch_sizes[i]\n",
        "        print('Normalization: batch size = ',b_size)\n",
        "        bn_model = FullyConnectedNet(hidden_dims, weight_scale=weight_scale, normalization=normalization_mode)\n",
        "        bn_solver = Solver(bn_model, small_data,\n",
        "                        num_epochs=n_epochs, batch_size=b_size,\n",
        "                        update_rule='adam',\n",
        "                        optim_config={\n",
        "                          'learning_rate': lr,\n",
        "                        },\n",
        "                        verbose=False)\n",
        "        bn_solver.train()\n",
        "        bn_solvers.append(bn_solver)\n",
        "        \n",
        "    return bn_solvers, solver, batch_sizes\n",
        "\n",
        "batch_sizes = [5,10,50]\n",
        "bn_solvers_bsize, solver_bsize, batch_sizes = run_batchsize_experiments('batchnorm')"
      ]
    },
    {
      "cell_type": "code",
      "execution_count": 29,
      "metadata": {
        "colab": {
          "base_uri": "https://localhost:8080/",
          "height": 621
        },
        "id": "1RwC0Eq0QQjW",
        "outputId": "5e2537bc-3062-41ef-90ed-b89e03515df4"
      },
      "outputs": [
        {
          "output_type": "display_data",
          "data": {
            "text/plain": [
              "<Figure size 1080x720 with 2 Axes>"
            ],
            "image/png": "[encoded data removed]"
          },
          "metadata": {
            "needs_background": "light"
          }
        }
      ],
      "source": [
        "plt.subplot(2, 1, 1)\n",
        "plot_training_history('Training accuracy (Batch Normalization)','Epoch', solver_bsize, bn_solvers_bsize, \\\n",
        "                      lambda x: x.train_acc_history, bl_marker='-^', bn_marker='-o', labels=batch_sizes)\n",
        "plt.subplot(2, 1, 2)\n",
        "plot_training_history('Validation accuracy (Batch Normalization)','Epoch', solver_bsize, bn_solvers_bsize, \\\n",
        "                      lambda x: x.val_acc_history, bl_marker='-^', bn_marker='-o', labels=batch_sizes)\n",
        "\n",
        "plt.gcf().set_size_inches(15, 10)\n",
        "plt.show()"
      ]
    },
    {
      "cell_type": "markdown",
      "source": [
        "**Вывод:**\n",
        "\n",
        "Согласно результатам, на тренировочной и валидационной выборках преимущественно показывает лучший результат batch normalization **с размером батча 50**"
      ],
      "metadata": {
        "id": "HB4eK0GIIh_N"
      }
    },
    {
      "cell_type": "markdown",
      "metadata": {
        "id": "afRc5QOOQQjW"
      },
      "source": [
        "# Dropout"
      ]
    },
    {
      "cell_type": "markdown",
      "metadata": {
        "id": "hOqXVWy2QQjW"
      },
      "source": [
        "Реализуйте прямой проход для dropout-слоя в scripts/layers.py\n",
        "\n",
        "http://cs231n.github.io/neural-networks-2/#reg"
      ]
    },
    {
      "cell_type": "code",
      "execution_count": 30,
      "metadata": {
        "colab": {
          "base_uri": "https://localhost:8080/"
        },
        "id": "KdwRIhbOQQjW",
        "outputId": "6a7e6138-f022-40fb-b886-0135af1e9099"
      },
      "outputs": [
        {
          "output_type": "stream",
          "name": "stdout",
          "text": [
            "Running tests with p =  0.25\n",
            "Mean of input:  10.000207878477502\n",
            "Mean of train-time output:  10.014059116977283\n",
            "Mean of test-time output:  10.000207878477502\n",
            "Fraction of train-time output set to zero:  0.749784\n",
            "Fraction of test-time output set to zero:  0.0\n",
            "\n",
            "Running tests with p =  0.4\n",
            "Mean of input:  10.000207878477502\n",
            "Mean of train-time output:  9.977917658761159\n",
            "Mean of test-time output:  10.000207878477502\n",
            "Fraction of train-time output set to zero:  0.600796\n",
            "Fraction of test-time output set to zero:  0.0\n",
            "\n",
            "Running tests with p =  0.7\n",
            "Mean of input:  10.000207878477502\n",
            "Mean of train-time output:  9.987811912159426\n",
            "Mean of test-time output:  10.000207878477502\n",
            "Fraction of train-time output set to zero:  0.30074\n",
            "Fraction of test-time output set to zero:  0.0\n",
            "\n"
          ]
        }
      ],
      "source": [
        "np.random.seed(231)\n",
        "x = np.random.randn(500, 500) + 10\n",
        "\n",
        "for p in [0.25, 0.4, 0.7]:\n",
        "  out, _ = dropout_forward(x, {'mode': 'train', 'p': p})\n",
        "  out_test, _ = dropout_forward(x, {'mode': 'test', 'p': p})\n",
        "\n",
        "  print('Running tests with p = ', p)\n",
        "  print('Mean of input: ', x.mean())\n",
        "  print('Mean of train-time output: ', out.mean())\n",
        "  print('Mean of test-time output: ', out_test.mean())\n",
        "  print('Fraction of train-time output set to zero: ', (out == 0).mean())\n",
        "  print('Fraction of test-time output set to zero: ', (out_test == 0).mean())\n",
        "  print()"
      ]
    },
    {
      "cell_type": "markdown",
      "metadata": {
        "id": "eO2iCbSZQQjW"
      },
      "source": [
        "Реализуйте обратный проход для dropout-слоя"
      ]
    },
    {
      "cell_type": "code",
      "execution_count": 31,
      "metadata": {
        "colab": {
          "base_uri": "https://localhost:8080/"
        },
        "id": "rjfdIRW3QQjX",
        "outputId": "22af18fd-e059-4668-d69b-2ce3c4eed023"
      },
      "outputs": [
        {
          "output_type": "stream",
          "name": "stdout",
          "text": [
            "dx relative error:  5.44560814873387e-11\n"
          ]
        }
      ],
      "source": [
        "np.random.seed(231)\n",
        "x = np.random.randn(10, 10) + 10\n",
        "dout = np.random.randn(*x.shape)\n",
        "\n",
        "dropout_param = {'mode': 'train', 'p': 0.2, 'seed': 123}\n",
        "out, cache = dropout_forward(x, dropout_param)\n",
        "dx = dropout_backward(dout, cache)\n",
        "dx_num = eval_numerical_gradient_array(lambda xx: dropout_forward(xx, dropout_param)[0], x, dout)\n",
        "\n",
        "# Error should be around e-10 or less\n",
        "print('dx relative error: ', rel_error(dx, dx_num))"
      ]
    },
    {
      "cell_type": "markdown",
      "metadata": {
        "id": "nIc1SKXZQQjX"
      },
      "source": [
        "Добавьте в реализацию класса FullyConnectedNet поддержку dropout. Если параметр dropout != 1, то добавьте в модель dropout-слой после каждого слоя активации. Проверьте свою реализацию"
      ]
    },
    {
      "cell_type": "code",
      "execution_count": 32,
      "metadata": {
        "colab": {
          "base_uri": "https://localhost:8080/"
        },
        "id": "oknP4ymsQQjX",
        "outputId": "b6258e68-e657-4fa8-8eaf-fa44ad9d1326"
      },
      "outputs": [
        {
          "output_type": "stream",
          "name": "stdout",
          "text": [
            "Running check with dropout =  1\n",
            "Initial loss:  2.3004790897684924\n",
            "W1 relative error: 1.48e-07\n",
            "W2 relative error: 2.21e-05\n",
            "W3 relative error: 3.53e-07\n",
            "b1 relative error: 5.38e-09\n",
            "b2 relative error: 2.09e-09\n",
            "b3 relative error: 5.80e-11\n",
            "\n",
            "Running check with dropout =  0.75\n",
            "Initial loss:  2.302371489704412\n",
            "W1 relative error: 1.90e-07\n",
            "W2 relative error: 4.76e-06\n",
            "W3 relative error: 2.60e-08\n",
            "b1 relative error: 4.73e-09\n",
            "b2 relative error: 1.82e-09\n",
            "b3 relative error: 1.70e-10\n",
            "\n",
            "Running check with dropout =  0.5\n",
            "Initial loss:  2.3042759220785896\n",
            "W1 relative error: 3.11e-07\n",
            "W2 relative error: 1.84e-08\n",
            "W3 relative error: 5.35e-08\n",
            "b1 relative error: 5.37e-09\n",
            "b2 relative error: 2.99e-09\n",
            "b3 relative error: 1.13e-10\n",
            "\n"
          ]
        }
      ],
      "source": [
        "np.random.seed(231)\n",
        "N, D, H1, H2, C = 2, 15, 20, 30, 10\n",
        "X = np.random.randn(N, D)\n",
        "y = np.random.randint(C, size=(N,))\n",
        "\n",
        "for dropout in [1, 0.75, 0.5]:\n",
        "  print('Running check with dropout = ', dropout)\n",
        "  model = FullyConnectedNet([H1, H2], input_dim=D, num_classes=C,\n",
        "                            weight_scale=5e-2, dtype=np.float64,\n",
        "                            dropout=dropout, seed=123)\n",
        "\n",
        "  loss, grads = model.loss(X, y)\n",
        "  print('Initial loss: ', loss)\n",
        "  \n",
        "  # Relative errors should be around e-6 or less; Note that it's fine\n",
        "  # if for dropout=1 you have W2 error be on the order of e-5.\n",
        "  for name in sorted(grads):\n",
        "    f = lambda _: model.loss(X, y)[0]\n",
        "    grad_num = eval_numerical_gradient(f, model.params[name], verbose=False, h=1e-5)\n",
        "    print('%s relative error: %.2e' % (name, rel_error(grad_num, grads[name])))\n",
        "  print()"
      ]
    },
    {
      "cell_type": "markdown",
      "metadata": {
        "id": "g-LW5hBPQQjX"
      },
      "source": [
        "Обучите две двухслойные сети с dropout-слоем (вероятность отсева 0,25) и без на наборе из 500 изображений. Визуализируйте графики обучения. Сделайте выводы по результатам эксперимента"
      ]
    },
    {
      "cell_type": "code",
      "execution_count": 33,
      "metadata": {
        "colab": {
          "base_uri": "https://localhost:8080/"
        },
        "id": "uRGgXBnKQQjX",
        "outputId": "3f82dcd8-3b19-4250-a32d-b67598bd75d6"
      },
      "outputs": [
        {
          "output_type": "stream",
          "name": "stdout",
          "text": [
            "1\n",
            "(Iteration 1 / 125) loss: 7.856643\n",
            "(Epoch 0 / 25) train acc: 0.260000; val_acc: 0.184000\n",
            "(Epoch 1 / 25) train acc: 0.416000; val_acc: 0.258000\n",
            "(Epoch 2 / 25) train acc: 0.482000; val_acc: 0.276000\n",
            "(Epoch 3 / 25) train acc: 0.532000; val_acc: 0.277000\n",
            "(Epoch 4 / 25) train acc: 0.600000; val_acc: 0.271000\n",
            "(Epoch 5 / 25) train acc: 0.708000; val_acc: 0.299000\n",
            "(Epoch 6 / 25) train acc: 0.722000; val_acc: 0.282000\n",
            "(Epoch 7 / 25) train acc: 0.832000; val_acc: 0.255000\n",
            "(Epoch 8 / 25) train acc: 0.880000; val_acc: 0.268000\n",
            "(Epoch 9 / 25) train acc: 0.902000; val_acc: 0.277000\n",
            "(Epoch 10 / 25) train acc: 0.898000; val_acc: 0.261000\n",
            "(Epoch 11 / 25) train acc: 0.924000; val_acc: 0.263000\n",
            "(Epoch 12 / 25) train acc: 0.960000; val_acc: 0.300000\n",
            "(Epoch 13 / 25) train acc: 0.972000; val_acc: 0.314000\n",
            "(Epoch 14 / 25) train acc: 0.972000; val_acc: 0.310000\n",
            "(Epoch 15 / 25) train acc: 0.974000; val_acc: 0.314000\n",
            "(Epoch 16 / 25) train acc: 0.994000; val_acc: 0.303000\n",
            "(Epoch 17 / 25) train acc: 0.970000; val_acc: 0.304000\n",
            "(Epoch 18 / 25) train acc: 0.992000; val_acc: 0.312000\n",
            "(Epoch 19 / 25) train acc: 0.992000; val_acc: 0.309000\n",
            "(Epoch 20 / 25) train acc: 0.992000; val_acc: 0.289000\n",
            "(Iteration 101 / 125) loss: 0.001969\n",
            "(Epoch 21 / 25) train acc: 0.996000; val_acc: 0.291000\n",
            "(Epoch 22 / 25) train acc: 1.000000; val_acc: 0.306000\n",
            "(Epoch 23 / 25) train acc: 0.996000; val_acc: 0.309000\n",
            "(Epoch 24 / 25) train acc: 0.998000; val_acc: 0.314000\n",
            "(Epoch 25 / 25) train acc: 0.998000; val_acc: 0.305000\n",
            "\n",
            "0.25\n",
            "(Iteration 1 / 125) loss: 17.318478\n",
            "(Epoch 0 / 25) train acc: 0.230000; val_acc: 0.177000\n",
            "(Epoch 1 / 25) train acc: 0.378000; val_acc: 0.243000\n",
            "(Epoch 2 / 25) train acc: 0.402000; val_acc: 0.254000\n",
            "(Epoch 3 / 25) train acc: 0.502000; val_acc: 0.276000\n",
            "(Epoch 4 / 25) train acc: 0.528000; val_acc: 0.298000\n",
            "(Epoch 5 / 25) train acc: 0.562000; val_acc: 0.296000\n",
            "(Epoch 6 / 25) train acc: 0.626000; val_acc: 0.291000\n",
            "(Epoch 7 / 25) train acc: 0.622000; val_acc: 0.297000\n",
            "(Epoch 8 / 25) train acc: 0.688000; val_acc: 0.313000\n",
            "(Epoch 9 / 25) train acc: 0.712000; val_acc: 0.297000\n",
            "(Epoch 10 / 25) train acc: 0.724000; val_acc: 0.306000\n",
            "(Epoch 11 / 25) train acc: 0.768000; val_acc: 0.307000\n",
            "(Epoch 12 / 25) train acc: 0.774000; val_acc: 0.284000\n",
            "(Epoch 13 / 25) train acc: 0.828000; val_acc: 0.308000\n",
            "(Epoch 14 / 25) train acc: 0.812000; val_acc: 0.346000\n",
            "(Epoch 15 / 25) train acc: 0.850000; val_acc: 0.338000\n",
            "(Epoch 16 / 25) train acc: 0.844000; val_acc: 0.307000\n",
            "(Epoch 17 / 25) train acc: 0.858000; val_acc: 0.302000\n",
            "(Epoch 18 / 25) train acc: 0.860000; val_acc: 0.318000\n",
            "(Epoch 19 / 25) train acc: 0.884000; val_acc: 0.316000\n",
            "(Epoch 20 / 25) train acc: 0.862000; val_acc: 0.315000\n",
            "(Iteration 101 / 125) loss: 4.293572\n",
            "(Epoch 21 / 25) train acc: 0.886000; val_acc: 0.330000\n",
            "(Epoch 22 / 25) train acc: 0.898000; val_acc: 0.314000\n",
            "(Epoch 23 / 25) train acc: 0.934000; val_acc: 0.323000\n",
            "(Epoch 24 / 25) train acc: 0.918000; val_acc: 0.322000\n",
            "(Epoch 25 / 25) train acc: 0.922000; val_acc: 0.324000\n",
            "\n"
          ]
        }
      ],
      "source": [
        "# Train two identical nets, one with dropout and one without\n",
        "np.random.seed(231)\n",
        "num_train = 500\n",
        "small_data = {\n",
        "  'X_train': data['X_train'][:num_train],\n",
        "  'y_train': data['y_train'][:num_train],\n",
        "  'X_val': data['X_val'],\n",
        "  'y_val': data['y_val'],\n",
        "}\n",
        "\n",
        "solvers = {}\n",
        "dropout_choices = [1, 0.25]\n",
        "for dropout in dropout_choices:\n",
        "  model = FullyConnectedNet([500], dropout=dropout)\n",
        "  print(dropout)\n",
        "\n",
        "  solver = Solver(model, small_data,\n",
        "                  num_epochs=25, batch_size=100,\n",
        "                  update_rule='adam',\n",
        "                  optim_config={\n",
        "                    'learning_rate': 5e-4,\n",
        "                  },\n",
        "                  verbose=True, print_every=100)\n",
        "  solver.train()\n",
        "  solvers[dropout] = solver\n",
        "  print()"
      ]
    },
    {
      "cell_type": "code",
      "execution_count": 34,
      "metadata": {
        "colab": {
          "base_uri": "https://localhost:8080/",
          "height": 606
        },
        "id": "J2n5wQ4pQQjX",
        "outputId": "e18151b3-36f4-4c81-acb9-ad714b16f7fa"
      },
      "outputs": [
        {
          "output_type": "display_data",
          "data": {
            "text/plain": [
              "<Figure size 1080x1080 with 2 Axes>"
            ],
            "image/png": "[encoded data removed]"
          },
          "metadata": {
            "needs_background": "light"
          }
        }
      ],
      "source": [
        "# Plot train and validation accuracies of the two models\n",
        "\n",
        "train_accs = []\n",
        "val_accs = []\n",
        "for dropout in dropout_choices:\n",
        "  solver = solvers[dropout]\n",
        "  train_accs.append(solver.train_acc_history[-1])\n",
        "  val_accs.append(solver.val_acc_history[-1])\n",
        "\n",
        "plt.subplot(3, 1, 1)\n",
        "for dropout in dropout_choices:\n",
        "  plt.plot(solvers[dropout].train_acc_history, 'o', label='%.2f dropout' % dropout)\n",
        "plt.title('Train accuracy')\n",
        "plt.xlabel('Epoch')\n",
        "plt.ylabel('Accuracy')\n",
        "plt.legend(ncol=2, loc='lower right')\n",
        "  \n",
        "plt.subplot(3, 1, 2)\n",
        "for dropout in dropout_choices:\n",
        "  plt.plot(solvers[dropout].val_acc_history, 'o', label='%.2f dropout' % dropout)\n",
        "plt.title('Val accuracy')\n",
        "plt.xlabel('Epoch')\n",
        "plt.ylabel('Accuracy')\n",
        "plt.legend(ncol=2, loc='lower right')\n",
        "\n",
        "plt.gcf().set_size_inches(15, 15)\n",
        "plt.show()"
      ]
    },
    {
      "cell_type": "markdown",
      "source": [
        "**Вывод:**\n",
        "\n",
        "Отсутствие дропаута увеличивает скорость достижения максимального accuracy на тренировочной выборке, но приводит к переобучению. "
      ],
      "metadata": {
        "id": "VBGny5V9O6eo"
      }
    },
    {
      "cell_type": "markdown",
      "metadata": {
        "id": "-XdE7AU6QQjY"
      },
      "source": [
        "# Сверточные нейронные сети (CNN)"
      ]
    },
    {
      "cell_type": "markdown",
      "metadata": {
        "id": "BbCIrp-uQQjY"
      },
      "source": [
        "Реализуйте прямой проход для сверточного слоя - функция conv_forward_naive в scripts/layers.py юПроверьте свою реализацию, запустив код ниже "
      ]
    },
    {
      "cell_type": "code",
      "execution_count": 35,
      "metadata": {
        "colab": {
          "base_uri": "https://localhost:8080/"
        },
        "id": "kdJMG3smQQjY",
        "outputId": "36b91a3c-d9f6-4899-ce7c-0d7f83de7208"
      },
      "outputs": [
        {
          "output_type": "stream",
          "name": "stdout",
          "text": [
            "Testing conv_forward_naive\n",
            "difference:  2.2121476417505994e-08\n"
          ]
        }
      ],
      "source": [
        "x_shape = (2, 3, 4, 4)\n",
        "w_shape = (3, 3, 4, 4)\n",
        "x = np.linspace(-0.1, 0.5, num=np.prod(x_shape)).reshape(x_shape)\n",
        "w = np.linspace(-0.2, 0.3, num=np.prod(w_shape)).reshape(w_shape)\n",
        "b = np.linspace(-0.1, 0.2, num=3)\n",
        "\n",
        "conv_param = {'stride': 2, 'pad': 1}\n",
        "out, _ = conv_forward_naive(x, w, b, conv_param)\n",
        "correct_out = np.array([[[[-0.08759809, -0.10987781],\n",
        "                           [-0.18387192, -0.2109216 ]],\n",
        "                          [[ 0.21027089,  0.21661097],\n",
        "                           [ 0.22847626,  0.23004637]],\n",
        "                          [[ 0.50813986,  0.54309974],\n",
        "                           [ 0.64082444,  0.67101435]]],\n",
        "                         [[[-0.98053589, -1.03143541],\n",
        "                           [-1.19128892, -1.24695841]],\n",
        "                          [[ 0.69108355,  0.66880383],\n",
        "                           [ 0.59480972,  0.56776003]],\n",
        "                          [[ 2.36270298,  2.36904306],\n",
        "                           [ 2.38090835,  2.38247847]]]])\n",
        "\n",
        "# Compare your output to ours; difference should be around e-8\n",
        "print('Testing conv_forward_naive')\n",
        "print('difference: ', rel_error(out, correct_out))"
      ]
    },
    {
      "cell_type": "markdown",
      "metadata": {
        "id": "LghIFSj-QQjY"
      },
      "source": [
        "Реализуйте обратный проход - функция conv_backward_naive в scripts/layers.py"
      ]
    },
    {
      "cell_type": "code",
      "execution_count": 36,
      "metadata": {
        "colab": {
          "base_uri": "https://localhost:8080/"
        },
        "id": "_4UDjmf6QQjY",
        "outputId": "1044a853-6780-4dcc-fc3f-954d856f8e58"
      },
      "outputs": [
        {
          "output_type": "stream",
          "name": "stdout",
          "text": [
            "Testing conv_backward_naive function\n",
            "dx error:  1.159803161159293e-08\n",
            "dw error:  2.2471264748452487e-10\n",
            "db error:  3.37264006649648e-11\n"
          ]
        }
      ],
      "source": [
        "np.random.seed(231)\n",
        "x = np.random.randn(4, 3, 5, 5)\n",
        "w = np.random.randn(2, 3, 3, 3)\n",
        "b = np.random.randn(2,)\n",
        "dout = np.random.randn(4, 2, 5, 5)\n",
        "conv_param = {'stride': 1, 'pad': 1}\n",
        "\n",
        "dx_num = eval_numerical_gradient_array(lambda x: conv_forward_naive(x, w, b, conv_param)[0], x, dout)\n",
        "dw_num = eval_numerical_gradient_array(lambda w: conv_forward_naive(x, w, b, conv_param)[0], w, dout)\n",
        "db_num = eval_numerical_gradient_array(lambda b: conv_forward_naive(x, w, b, conv_param)[0], b, dout)\n",
        "\n",
        "out, cache = conv_forward_naive(x, w, b, conv_param)\n",
        "dx, dw, db = conv_backward_naive(dout, cache)\n",
        "\n",
        "# Your errors should be around e-8 or less.\n",
        "print('Testing conv_backward_naive function')\n",
        "print('dx error: ', rel_error(dx, dx_num))\n",
        "print('dw error: ', rel_error(dw, dw_num))\n",
        "print('db error: ', rel_error(db, db_num))"
      ]
    },
    {
      "cell_type": "markdown",
      "metadata": {
        "id": "kcyTV_l3QQjY"
      },
      "source": [
        "Реализуйте прямой проход для max-pooling слоя -функция  max_pool_forward_naive в scripts/layers.py"
      ]
    },
    {
      "cell_type": "code",
      "execution_count": 37,
      "metadata": {
        "colab": {
          "base_uri": "https://localhost:8080/"
        },
        "id": "Jo7XP7hHQQjY",
        "outputId": "b9489c88-2f45-4a31-fca1-5338d4e55209"
      },
      "outputs": [
        {
          "output_type": "stream",
          "name": "stdout",
          "text": [
            "Testing max_pool_forward_naive function:\n",
            "difference:  4.1666665157267834e-08\n"
          ]
        }
      ],
      "source": [
        "x_shape = (2, 3, 4, 4)\n",
        "x = np.linspace(-0.3, 0.4, num=np.prod(x_shape)).reshape(x_shape)\n",
        "pool_param = {'pool_width': 2, 'pool_height': 2, 'stride': 2}\n",
        "\n",
        "out, _ = max_pool_forward_naive(x, pool_param)\n",
        "\n",
        "correct_out = np.array([[[[-0.26315789, -0.24842105],\n",
        "                          [-0.20421053, -0.18947368]],\n",
        "                         [[-0.14526316, -0.13052632],\n",
        "                          [-0.08631579, -0.07157895]],\n",
        "                         [[-0.02736842, -0.01263158],\n",
        "                          [ 0.03157895,  0.04631579]]],\n",
        "                        [[[ 0.09052632,  0.10526316],\n",
        "                          [ 0.14947368,  0.16421053]],\n",
        "                         [[ 0.20842105,  0.22315789],\n",
        "                          [ 0.26736842,  0.28210526]],\n",
        "                         [[ 0.32631579,  0.34105263],\n",
        "                          [ 0.38526316,  0.4       ]]]])\n",
        "\n",
        "# Compare your output with ours. Difference should be on the order of e-8.\n",
        "print('Testing max_pool_forward_naive function:')\n",
        "print('difference: ', rel_error(out, correct_out))"
      ]
    },
    {
      "cell_type": "markdown",
      "metadata": {
        "id": "Vohy9tBVQQjY"
      },
      "source": [
        "Реализуйте обратный проход для max-pooling слоя в max_pool_backward_naive . "
      ]
    },
    {
      "cell_type": "code",
      "execution_count": 38,
      "metadata": {
        "colab": {
          "base_uri": "https://localhost:8080/"
        },
        "id": "eoSV3U-SQQjZ",
        "outputId": "c60f8a63-e4f9-4f86-b338-0380d24b1033"
      },
      "outputs": [
        {
          "output_type": "stream",
          "name": "stdout",
          "text": [
            "Testing max_pool_backward_naive function:\n",
            "dx error:  3.27562514223145e-12\n"
          ]
        }
      ],
      "source": [
        "np.random.seed(231)\n",
        "x = np.random.randn(3, 2, 8, 8)\n",
        "dout = np.random.randn(3, 2, 4, 4)\n",
        "pool_param = {'pool_height': 2, 'pool_width': 2, 'stride': 2}\n",
        "\n",
        "dx_num = eval_numerical_gradient_array(lambda x: max_pool_forward_naive(x, pool_param)[0], x, dout)\n",
        "\n",
        "out, cache = max_pool_forward_naive(x, pool_param)\n",
        "dx = max_pool_backward_naive(dout, cache)\n",
        "\n",
        "# Your error should be on the order of e-12\n",
        "print('Testing max_pool_backward_naive function:')\n",
        "print('dx error: ', rel_error(dx, dx_num))"
      ]
    },
    {
      "cell_type": "markdown",
      "metadata": {
        "id": "IVYXL9iqQQjZ"
      },
      "source": [
        "В скрипте scripts/fast_layers.py представлены быстрые реализации слоев свертки и пуллинга, написанных с использованием  Cython. \n",
        "\n",
        "Для компиляции выполните следующую команду в директории scripts\n",
        "\n",
        "```bash\n",
        "python setup.py build_ext --inplace\n",
        "```\n"
      ]
    },
    {
      "cell_type": "code",
      "source": [
        "!cd scripts && python3 setup.py build_ext --inplace"
      ],
      "metadata": {
        "colab": {
          "base_uri": "https://localhost:8080/"
        },
        "id": "DYOJvVJrQCBL",
        "outputId": "833bcb11-db3b-42a7-8e45-145919123fc5"
      },
      "execution_count": 39,
      "outputs": [
        {
          "output_type": "stream",
          "name": "stdout",
          "text": [
            "running build_ext\n"
          ]
        }
      ]
    },
    {
      "cell_type": "markdown",
      "metadata": {
        "id": "yEOj0DsfQQjZ"
      },
      "source": [
        "Сравните ваши реализации слоев свертки и пуллинга с быстрыми реализациями."
      ]
    },
    {
      "cell_type": "code",
      "execution_count": 40,
      "metadata": {
        "colab": {
          "base_uri": "https://localhost:8080/"
        },
        "id": "jKcULNl_QQjZ",
        "outputId": "a8d5b4bc-d1c9-43ad-a360-5769de42f03a"
      },
      "outputs": [
        {
          "output_type": "stream",
          "name": "stdout",
          "text": [
            "Testing conv_forward_fast:\n",
            "Naive: 0.324959s\n",
            "Fast: 0.011539s\n",
            "Speedup: 28.160661x\n",
            "Difference:  4.926407851494105e-11\n",
            "\n",
            "Testing conv_backward_fast:\n",
            "Naive: 7.956723s\n",
            "Fast: 0.010876s\n",
            "Speedup: 731.557334x\n",
            "dx difference:  1.949764775345631e-11\n",
            "dw difference:  3.681156828004736e-13\n",
            "db difference:  0.0\n"
          ]
        }
      ],
      "source": [
        "# Rel errors should be around e-9 or less\n",
        "from scripts.fast_layers import conv_forward_fast, conv_backward_fast\n",
        "from time import time\n",
        "np.random.seed(231)\n",
        "x = np.random.randn(100, 3, 31, 31)\n",
        "w = np.random.randn(25, 3, 3, 3)\n",
        "b = np.random.randn(25,)\n",
        "dout = np.random.randn(100, 25, 16, 16)\n",
        "conv_param = {'stride': 2, 'pad': 1}\n",
        "\n",
        "t0 = time()\n",
        "out_naive, cache_naive = conv_forward_naive(x, w, b, conv_param)\n",
        "t1 = time()\n",
        "out_fast, cache_fast = conv_forward_fast(x, w, b, conv_param)\n",
        "t2 = time()\n",
        "\n",
        "print('Testing conv_forward_fast:')\n",
        "print('Naive: %fs' % (t1 - t0))\n",
        "print('Fast: %fs' % (t2 - t1))\n",
        "print('Speedup: %fx' % ((t1 - t0) / (t2 - t1)))\n",
        "print('Difference: ', rel_error(out_naive, out_fast))\n",
        "\n",
        "t0 = time()\n",
        "dx_naive, dw_naive, db_naive = conv_backward_naive(dout, cache_naive)\n",
        "t1 = time()\n",
        "dx_fast, dw_fast, db_fast = conv_backward_fast(dout, cache_fast)\n",
        "t2 = time()\n",
        "\n",
        "print('\\nTesting conv_backward_fast:')\n",
        "print('Naive: %fs' % (t1 - t0))\n",
        "print('Fast: %fs' % (t2 - t1))\n",
        "print('Speedup: %fx' % ((t1 - t0) / (t2 - t1)))\n",
        "print('dx difference: ', rel_error(dx_naive, dx_fast))\n",
        "print('dw difference: ', rel_error(dw_naive, dw_fast))\n",
        "print('db difference: ', rel_error(db_naive, db_fast))"
      ]
    },
    {
      "cell_type": "code",
      "execution_count": 41,
      "metadata": {
        "colab": {
          "base_uri": "https://localhost:8080/"
        },
        "id": "h1wlBn9lQQjZ",
        "outputId": "3790f534-51ff-41d8-f4b1-0f99f87999dd"
      },
      "outputs": [
        {
          "output_type": "stream",
          "name": "stdout",
          "text": [
            "Testing pool_forward_fast:\n",
            "Naive: 0.011356s\n",
            "fast: 0.006441s\n",
            "speedup: 1.763197x\n",
            "difference:  0.0\n",
            "\n",
            "Testing pool_backward_fast:\n",
            "Naive: 0.577650s\n",
            "fast: 0.011630s\n",
            "speedup: 49.669714x\n",
            "dx difference:  0.0\n"
          ]
        }
      ],
      "source": [
        "# Relative errors should be close to 0.0\n",
        "from scripts.fast_layers import max_pool_forward_fast, max_pool_backward_fast\n",
        "np.random.seed(231)\n",
        "x = np.random.randn(100, 3, 32, 32)\n",
        "dout = np.random.randn(100, 3, 16, 16)\n",
        "pool_param = {'pool_height': 2, 'pool_width': 2, 'stride': 2}\n",
        "\n",
        "t0 = time()\n",
        "out_naive, cache_naive = max_pool_forward_naive(x, pool_param)\n",
        "t1 = time()\n",
        "out_fast, cache_fast = max_pool_forward_fast(x, pool_param)\n",
        "t2 = time()\n",
        "\n",
        "print('Testing pool_forward_fast:')\n",
        "print('Naive: %fs' % (t1 - t0))\n",
        "print('fast: %fs' % (t2 - t1))\n",
        "print('speedup: %fx' % ((t1 - t0) / (t2 - t1)))\n",
        "print('difference: ', rel_error(out_naive, out_fast))\n",
        "\n",
        "t0 = time()\n",
        "dx_naive = max_pool_backward_naive(dout, cache_naive)\n",
        "t1 = time()\n",
        "dx_fast = max_pool_backward_fast(dout, cache_fast)\n",
        "t2 = time()\n",
        "\n",
        "print('\\nTesting pool_backward_fast:')\n",
        "print('Naive: %fs' % (t1 - t0))\n",
        "print('fast: %fs' % (t2 - t1))\n",
        "print('speedup: %fx' % ((t1 - t0) / (t2 - t1)))\n",
        "print('dx difference: ', rel_error(dx_naive, dx_fast))"
      ]
    },
    {
      "cell_type": "markdown",
      "metadata": {
        "id": "FUAITYFvQQjZ"
      },
      "source": [
        "В layer_utils.py вы можете найти  часто используемые комбинации слоев, используемых в сверточных сетях. Ознакомьтесь с ними и запустите код ниже для проверки их работы"
      ]
    },
    {
      "cell_type": "code",
      "execution_count": 42,
      "metadata": {
        "colab": {
          "base_uri": "https://localhost:8080/"
        },
        "id": "oI7CpUTOQQjZ",
        "outputId": "3e704ec4-1076-4b41-9abf-81c0a899fc8b"
      },
      "outputs": [
        {
          "output_type": "stream",
          "name": "stdout",
          "text": [
            "Testing conv_relu_pool\n",
            "dx error:  9.591132621921372e-09\n",
            "dw error:  5.802391137330214e-09\n",
            "db error:  1.0146343411762047e-09\n"
          ]
        }
      ],
      "source": [
        "from scripts.layer_utils import conv_relu_pool_forward, conv_relu_pool_backward\n",
        "np.random.seed(231)\n",
        "x = np.random.randn(2, 3, 16, 16)\n",
        "w = np.random.randn(3, 3, 3, 3)\n",
        "b = np.random.randn(3,)\n",
        "dout = np.random.randn(2, 3, 8, 8)\n",
        "conv_param = {'stride': 1, 'pad': 1}\n",
        "pool_param = {'pool_height': 2, 'pool_width': 2, 'stride': 2}\n",
        "\n",
        "out, cache = conv_relu_pool_forward(x, w, b, conv_param, pool_param)\n",
        "dx, dw, db = conv_relu_pool_backward(dout, cache)\n",
        "\n",
        "dx_num = eval_numerical_gradient_array(lambda x: conv_relu_pool_forward(x, w, b, conv_param, pool_param)[0], x, dout)\n",
        "dw_num = eval_numerical_gradient_array(lambda w: conv_relu_pool_forward(x, w, b, conv_param, pool_param)[0], w, dout)\n",
        "db_num = eval_numerical_gradient_array(lambda b: conv_relu_pool_forward(x, w, b, conv_param, pool_param)[0], b, dout)\n",
        "\n",
        "# Relative errors should be around e-8 or less\n",
        "print('Testing conv_relu_pool')\n",
        "print('dx error: ', rel_error(dx_num, dx))\n",
        "print('dw error: ', rel_error(dw_num, dw))\n",
        "print('db error: ', rel_error(db_num, db))"
      ]
    },
    {
      "cell_type": "code",
      "execution_count": 43,
      "metadata": {
        "colab": {
          "base_uri": "https://localhost:8080/"
        },
        "id": "CuSjsRILQQjZ",
        "outputId": "a4eb1789-a822-492e-e913-4b5294289f5b"
      },
      "outputs": [
        {
          "output_type": "stream",
          "name": "stdout",
          "text": [
            "Testing conv_relu:\n",
            "dx error:  1.5218619980349303e-09\n",
            "dw error:  2.702022646099404e-10\n",
            "db error:  1.451272393591721e-10\n"
          ]
        }
      ],
      "source": [
        "from scripts.layer_utils import conv_relu_forward, conv_relu_backward\n",
        "np.random.seed(231)\n",
        "x = np.random.randn(2, 3, 8, 8)\n",
        "w = np.random.randn(3, 3, 3, 3)\n",
        "b = np.random.randn(3,)\n",
        "dout = np.random.randn(2, 3, 8, 8)\n",
        "conv_param = {'stride': 1, 'pad': 1}\n",
        "\n",
        "out, cache = conv_relu_forward(x, w, b, conv_param)\n",
        "dx, dw, db = conv_relu_backward(dout, cache)\n",
        "\n",
        "dx_num = eval_numerical_gradient_array(lambda x: conv_relu_forward(x, w, b, conv_param)[0], x, dout)\n",
        "dw_num = eval_numerical_gradient_array(lambda w: conv_relu_forward(x, w, b, conv_param)[0], w, dout)\n",
        "db_num = eval_numerical_gradient_array(lambda b: conv_relu_forward(x, w, b, conv_param)[0], b, dout)\n",
        "\n",
        "# Relative errors should be around e-8 or less\n",
        "print('Testing conv_relu:')\n",
        "print('dx error: ', rel_error(dx_num, dx))\n",
        "print('dw error: ', rel_error(dw_num, dw))\n",
        "print('db error: ', rel_error(db_num, db))"
      ]
    },
    {
      "cell_type": "markdown",
      "metadata": {
        "id": "YIkhzVNcQQja"
      },
      "source": [
        "Напишите реализацию класса ThreeLayerConvNet в scripts/classifiers/cnn.py . Вы можете использовать готовые реализации слоев и их комбинаций."
      ]
    },
    {
      "cell_type": "markdown",
      "metadata": {
        "id": "WSYE_P8PQQja"
      },
      "source": [
        "Проверьте вашу реализацию. Ожидается, что значение функции потерь softmax будет порядка `log(C)` для `C` классов для случая без регуляризации. В случае регуляризации значение функции потерь должно немного возрасти. "
      ]
    },
    {
      "cell_type": "code",
      "execution_count": 44,
      "metadata": {
        "colab": {
          "base_uri": "https://localhost:8080/"
        },
        "id": "px6mtxSIQQja",
        "outputId": "fdac218e-0679-4d7e-81bd-a3606c1f96a0"
      },
      "outputs": [
        {
          "output_type": "stream",
          "name": "stdout",
          "text": [
            "Initial loss (no regularization):  2.302586071243987\n",
            "Initial loss (with regularization):  2.508255635671795\n"
          ]
        }
      ],
      "source": [
        "model = ThreeLayerConvNet()\n",
        "\n",
        "N = 50\n",
        "X = np.random.randn(N, 3, 32, 32)\n",
        "y = np.random.randint(10, size=N)\n",
        "\n",
        "loss, grads = model.loss(X, y)\n",
        "print('Initial loss (no regularization): ', loss)\n",
        "\n",
        "model.reg = 0.5\n",
        "loss, grads = model.loss(X, y)\n",
        "print('Initial loss (with regularization): ', loss)"
      ]
    },
    {
      "cell_type": "markdown",
      "metadata": {
        "id": "d_QxUqAGQQja"
      },
      "source": [
        "Проверьте реализацию обратного прохода"
      ]
    },
    {
      "cell_type": "code",
      "execution_count": 45,
      "metadata": {
        "colab": {
          "base_uri": "https://localhost:8080/"
        },
        "id": "vFzWBm5HQQja",
        "outputId": "09a40620-293e-4f5a-9f83-e3b065b152df"
      },
      "outputs": [
        {
          "output_type": "stream",
          "name": "stdout",
          "text": [
            "W1 max relative error: 1.380104e-04\n",
            "W2 max relative error: 1.822723e-02\n",
            "W3 max relative error: 3.064049e-04\n",
            "b1 max relative error: 3.477652e-05\n",
            "b2 max relative error: 2.516375e-03\n",
            "b3 max relative error: 7.945660e-10\n"
          ]
        }
      ],
      "source": [
        "num_inputs = 2\n",
        "input_dim = (3, 16, 16)\n",
        "reg = 0.0\n",
        "num_classes = 10\n",
        "np.random.seed(231)\n",
        "X = np.random.randn(num_inputs, *input_dim)\n",
        "y = np.random.randint(num_classes, size=num_inputs)\n",
        "\n",
        "model = ThreeLayerConvNet(num_filters=3, filter_size=3,\n",
        "                          input_dim=input_dim, hidden_dim=7,\n",
        "                          dtype=np.float64)\n",
        "loss, grads = model.loss(X, y)\n",
        "# Errors should be small, but correct implementations may have\n",
        "# relative errors up to the order of e-2\n",
        "for param_name in sorted(grads):\n",
        "    f = lambda _: model.loss(X, y)[0]\n",
        "    param_grad_num = eval_numerical_gradient(f, model.params[param_name], verbose=False, h=1e-6)\n",
        "    e = rel_error(param_grad_num, grads[param_name])\n",
        "    print('%s max relative error: %e' % (param_name, rel_error(param_grad_num, grads[param_name])))"
      ]
    },
    {
      "cell_type": "markdown",
      "metadata": {
        "id": "WLK1ab0tQQja"
      },
      "source": [
        "Попробуйте добиться эффекта переобучения. Обучите модель на небольшом наборе данных.Сравните значения accuracy на обучающих данных и на валидационных. Визуализируйте графики обучения "
      ]
    },
    {
      "cell_type": "code",
      "execution_count": 46,
      "metadata": {
        "colab": {
          "base_uri": "https://localhost:8080/"
        },
        "id": "l7QUsY-6QQja",
        "outputId": "36fe289e-b908-4306-cc3b-97baad48e53f"
      },
      "outputs": [
        {
          "output_type": "stream",
          "name": "stdout",
          "text": [
            "(Iteration 1 / 30) loss: 2.414060\n",
            "(Epoch 0 / 15) train acc: 0.200000; val_acc: 0.137000\n",
            "(Iteration 2 / 30) loss: 3.102925\n",
            "(Epoch 1 / 15) train acc: 0.140000; val_acc: 0.087000\n",
            "(Iteration 3 / 30) loss: 2.270330\n",
            "(Iteration 4 / 30) loss: 2.096705\n",
            "(Epoch 2 / 15) train acc: 0.240000; val_acc: 0.094000\n",
            "(Iteration 5 / 30) loss: 1.838880\n",
            "(Iteration 6 / 30) loss: 1.934188\n",
            "(Epoch 3 / 15) train acc: 0.510000; val_acc: 0.173000\n",
            "(Iteration 7 / 30) loss: 1.827912\n",
            "(Iteration 8 / 30) loss: 1.639574\n",
            "(Epoch 4 / 15) train acc: 0.520000; val_acc: 0.188000\n",
            "(Iteration 9 / 30) loss: 1.330082\n",
            "(Iteration 10 / 30) loss: 1.756115\n",
            "(Epoch 5 / 15) train acc: 0.630000; val_acc: 0.167000\n",
            "(Iteration 11 / 30) loss: 1.024162\n",
            "(Iteration 12 / 30) loss: 1.041826\n",
            "(Epoch 6 / 15) train acc: 0.750000; val_acc: 0.229000\n",
            "(Iteration 13 / 30) loss: 1.142777\n",
            "(Iteration 14 / 30) loss: 0.835706\n",
            "(Epoch 7 / 15) train acc: 0.790000; val_acc: 0.247000\n",
            "(Iteration 15 / 30) loss: 0.587786\n",
            "(Iteration 16 / 30) loss: 0.645509\n",
            "(Epoch 8 / 15) train acc: 0.820000; val_acc: 0.252000\n",
            "(Iteration 17 / 30) loss: 0.786844\n",
            "(Iteration 18 / 30) loss: 0.467054\n",
            "(Epoch 9 / 15) train acc: 0.820000; val_acc: 0.178000\n",
            "(Iteration 19 / 30) loss: 0.429880\n",
            "(Iteration 20 / 30) loss: 0.635498\n",
            "(Epoch 10 / 15) train acc: 0.900000; val_acc: 0.206000\n",
            "(Iteration 21 / 30) loss: 0.365807\n",
            "(Iteration 22 / 30) loss: 0.284220\n",
            "(Epoch 11 / 15) train acc: 0.820000; val_acc: 0.201000\n",
            "(Iteration 23 / 30) loss: 0.469343\n",
            "(Iteration 24 / 30) loss: 0.509369\n",
            "(Epoch 12 / 15) train acc: 0.920000; val_acc: 0.211000\n",
            "(Iteration 25 / 30) loss: 0.111638\n",
            "(Iteration 26 / 30) loss: 0.145388\n",
            "(Epoch 13 / 15) train acc: 0.930000; val_acc: 0.213000\n",
            "(Iteration 27 / 30) loss: 0.155575\n",
            "(Iteration 28 / 30) loss: 0.143398\n",
            "(Epoch 14 / 15) train acc: 0.960000; val_acc: 0.212000\n",
            "(Iteration 29 / 30) loss: 0.158160\n",
            "(Iteration 30 / 30) loss: 0.118934\n",
            "(Epoch 15 / 15) train acc: 0.990000; val_acc: 0.220000\n"
          ]
        }
      ],
      "source": [
        "np.random.seed(231)\n",
        "\n",
        "num_train = 100\n",
        "small_data = {\n",
        "  'X_train': data['X_train'][:num_train],\n",
        "  'y_train': data['y_train'][:num_train],\n",
        "  'X_val': data['X_val'],\n",
        "  'y_val': data['y_val'],\n",
        "}\n",
        "\n",
        "model = ThreeLayerConvNet(weight_scale=1e-2)\n",
        "\n",
        "solver = Solver(model, small_data,\n",
        "                num_epochs=15, batch_size=50,\n",
        "                update_rule='adam',\n",
        "                optim_config={\n",
        "                  'learning_rate': 1e-3,\n",
        "                },\n",
        "                verbose=True, print_every=1)\n",
        "solver.train()"
      ]
    },
    {
      "cell_type": "code",
      "execution_count": 47,
      "metadata": {
        "colab": {
          "base_uri": "https://localhost:8080/"
        },
        "id": "ObAcQC7DQQja",
        "outputId": "27486a94-8435-4d44-d368-9948891491c3"
      },
      "outputs": [
        {
          "output_type": "stream",
          "name": "stdout",
          "text": [
            "Small data training accuracy: 0.82\n"
          ]
        }
      ],
      "source": [
        "# Print final training accuracy\n",
        "print(\n",
        "    \"Small data training accuracy:\",\n",
        "    solver.check_accuracy(small_data['X_train'], small_data['y_train'])\n",
        ")"
      ]
    },
    {
      "cell_type": "code",
      "execution_count": 48,
      "metadata": {
        "colab": {
          "base_uri": "https://localhost:8080/"
        },
        "id": "i5T41U9CQQjb",
        "outputId": "62e00f02-9bb5-433a-866b-fc8f5cfbc70a"
      },
      "outputs": [
        {
          "output_type": "stream",
          "name": "stdout",
          "text": [
            "Small data validation accuracy: 0.252\n"
          ]
        }
      ],
      "source": [
        "# Print final validation accuracy\n",
        "print(\n",
        "    \"Small data validation accuracy:\",\n",
        "    solver.check_accuracy(small_data['X_val'], small_data['y_val'])\n",
        ")"
      ]
    },
    {
      "cell_type": "code",
      "execution_count": 49,
      "metadata": {
        "colab": {
          "base_uri": "https://localhost:8080/",
          "height": 497
        },
        "id": "Et5CIEApQQjb",
        "outputId": "c7e03558-264c-4a49-a0c5-3140d3f9149d"
      },
      "outputs": [
        {
          "output_type": "display_data",
          "data": {
            "text/plain": [
              "<Figure size 720x576 with 2 Axes>"
            ],
            "image/png": "[encoded data removed]"
          },
          "metadata": {
            "needs_background": "light"
          }
        }
      ],
      "source": [
        "plt.subplot(2, 1, 1)\n",
        "plt.plot(solver.loss_history, 'o')\n",
        "plt.xlabel('iteration')\n",
        "plt.ylabel('loss')\n",
        "\n",
        "plt.subplot(2, 1, 2)\n",
        "plt.plot(solver.train_acc_history, '-o')\n",
        "plt.plot(solver.val_acc_history, '-o')\n",
        "plt.legend(['train', 'val'], loc='upper left')\n",
        "plt.xlabel('epoch')\n",
        "plt.ylabel('accuracy')\n",
        "plt.show()"
      ]
    },
    {
      "cell_type": "markdown",
      "metadata": {
        "id": "GRCrFqQzQQjb"
      },
      "source": [
        "Обучите сеть на полном наборе данных. Выведите accuracy на обучающей и валидационной выборках"
      ]
    },
    {
      "cell_type": "code",
      "execution_count": 50,
      "metadata": {
        "colab": {
          "base_uri": "https://localhost:8080/"
        },
        "id": "L_KX8vt1QQjb",
        "outputId": "b8be0d6f-16a1-4643-d583-6f9d97eca2ed"
      },
      "outputs": [
        {
          "output_type": "stream",
          "name": "stdout",
          "text": [
            "(Iteration 1 / 980) loss: 2.304740\n",
            "(Epoch 0 / 1) train acc: 0.103000; val_acc: 0.107000\n",
            "(Iteration 21 / 980) loss: 2.098229\n",
            "(Iteration 41 / 980) loss: 1.949788\n",
            "(Iteration 61 / 980) loss: 1.888398\n",
            "(Iteration 81 / 980) loss: 1.877093\n",
            "(Iteration 101 / 980) loss: 1.851877\n",
            "(Iteration 121 / 980) loss: 1.859353\n",
            "(Iteration 141 / 980) loss: 1.800181\n",
            "(Iteration 161 / 980) loss: 2.143292\n",
            "(Iteration 181 / 980) loss: 1.830573\n",
            "(Iteration 201 / 980) loss: 2.037280\n",
            "(Iteration 221 / 980) loss: 2.020304\n",
            "(Iteration 241 / 980) loss: 1.823728\n",
            "(Iteration 261 / 980) loss: 1.692679\n",
            "(Iteration 281 / 980) loss: 1.882594\n",
            "(Iteration 301 / 980) loss: 1.798261\n",
            "(Iteration 321 / 980) loss: 1.851960\n",
            "(Iteration 341 / 980) loss: 1.716323\n",
            "(Iteration 361 / 980) loss: 1.897655\n",
            "(Iteration 381 / 980) loss: 1.319744\n",
            "(Iteration 401 / 980) loss: 1.738790\n",
            "(Iteration 421 / 980) loss: 1.488866\n",
            "(Iteration 441 / 980) loss: 1.718409\n",
            "(Iteration 461 / 980) loss: 1.744440\n",
            "(Iteration 481 / 980) loss: 1.605460\n",
            "(Iteration 501 / 980) loss: 1.494847\n",
            "(Iteration 521 / 980) loss: 1.835179\n",
            "(Iteration 541 / 980) loss: 1.483923\n",
            "(Iteration 561 / 980) loss: 1.676871\n",
            "(Iteration 581 / 980) loss: 1.438325\n",
            "(Iteration 621 / 980) loss: 1.529369\n",
            "(Iteration 641 / 980) loss: 1.763475\n",
            "(Iteration 661 / 980) loss: 1.790329\n",
            "(Iteration 681 / 980) loss: 1.693343\n",
            "(Iteration 701 / 980) loss: 1.637078\n",
            "(Iteration 721 / 980) loss: 1.644564\n",
            "(Iteration 741 / 980) loss: 1.708919\n",
            "(Iteration 761 / 980) loss: 1.494252\n",
            "(Iteration 781 / 980) loss: 1.901751\n",
            "(Iteration 801 / 980) loss: 1.898991\n",
            "(Iteration 821 / 980) loss: 1.489988\n",
            "(Iteration 841 / 980) loss: 1.377615\n",
            "(Iteration 861 / 980) loss: 1.763751\n",
            "(Iteration 881 / 980) loss: 1.540284\n",
            "(Iteration 901 / 980) loss: 1.525582\n",
            "(Iteration 921 / 980) loss: 1.674166\n",
            "(Iteration 941 / 980) loss: 1.714316\n",
            "(Iteration 961 / 980) loss: 1.534668\n",
            "(Epoch 1 / 1) train acc: 0.504000; val_acc: 0.499000\n"
          ]
        }
      ],
      "source": [
        "model = ThreeLayerConvNet(weight_scale=0.001, hidden_dim=500, reg=0.001)\n",
        "\n",
        "solver = Solver(model, data,\n",
        "                num_epochs=1, batch_size=50,\n",
        "                update_rule='adam',\n",
        "                optim_config={\n",
        "                  'learning_rate': 1e-3,\n",
        "                },\n",
        "                verbose=True, print_every=20)\n",
        "solver.train()"
      ]
    },
    {
      "cell_type": "code",
      "execution_count": 51,
      "metadata": {
        "colab": {
          "base_uri": "https://localhost:8080/"
        },
        "id": "kQ27VyBDQQjb",
        "outputId": "1060cd8a-1c92-4b14-eb24-23007289d543"
      },
      "outputs": [
        {
          "output_type": "stream",
          "name": "stdout",
          "text": [
            "Full data training accuracy: 0.4\n"
          ]
        }
      ],
      "source": [
        "# Print final training accuracy\n",
        "print(\n",
        "    \"Full data training accuracy:\",\n",
        "    solver.check_accuracy(small_data['X_train'], small_data['y_train'])\n",
        ")"
      ]
    },
    {
      "cell_type": "code",
      "execution_count": 52,
      "metadata": {
        "colab": {
          "base_uri": "https://localhost:8080/"
        },
        "id": "vwhg0GMiQQjb",
        "outputId": "8f3be3a3-8069-48b7-d3ad-c301599c1bd9"
      },
      "outputs": [
        {
          "output_type": "stream",
          "name": "stdout",
          "text": [
            "Full data validation accuracy: 0.499\n"
          ]
        }
      ],
      "source": [
        "# Print final validation accuracy\n",
        "print(\n",
        "    \"Full data validation accuracy:\",\n",
        "    solver.check_accuracy(data['X_val'], data['y_val'])\n",
        ")"
      ]
    },
    {
      "cell_type": "markdown",
      "metadata": {
        "id": "PMVZ5bVVQQjb"
      },
      "source": [
        "Визуализируйте фильтры на первом слое обученной сети"
      ]
    },
    {
      "cell_type": "code",
      "execution_count": 53,
      "metadata": {
        "colab": {
          "base_uri": "https://localhost:8080/",
          "height": 303
        },
        "id": "-z4qD9hzQQjb",
        "outputId": "00836321-1cd7-4ccf-ec59-a652399d4d63"
      },
      "outputs": [
        {
          "output_type": "display_data",
          "data": {
            "text/plain": [
              "<Figure size 360x360 with 1 Axes>"
            ],
            "image/png": "[encoded data removed]"
          },
          "metadata": {
            "needs_background": "light"
          }
        }
      ],
      "source": [
        "from scripts.vis_utils import visualize_grid\n",
        "\n",
        "grid = visualize_grid(model.params['W1'].transpose(0, 2, 3, 1))\n",
        "plt.imshow(grid.astype('uint8'))\n",
        "plt.axis('off')\n",
        "plt.gcf().set_size_inches(5, 5)\n",
        "plt.show()"
      ]
    }
  ],
  "metadata": {
    "kernelspec": {
      "display_name": "Python 3",
      "language": "python",
      "name": "python3"
    },
    "language_info": {
      "codemirror_mode": {
        "name": "ipython",
        "version": 3
      },
      "file_extension": ".py",
      "mimetype": "text/x-python",
      "name": "python",
      "nbconvert_exporter": "python",
      "pygments_lexer": "ipython3",
      "version": "3.7.4"
    },
    "colab": {
      "provenance": []
    }
  },
  "nbformat": 4,
  "nbformat_minor": 0
}