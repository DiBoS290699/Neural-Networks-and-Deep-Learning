{
  "cells": [
    {
      "cell_type": "markdown",
      "metadata": {
        "id": "Sih8Qr3fJCDA"
      },
      "source": [
        "# Лабораторная работа 4"
      ]
    },
    {
      "cell_type": "markdown",
      "metadata": {
        "id": "NdeHw7itJCDC"
      },
      "source": [
        "## Практика TensorFlow 2.x"
      ]
    },
    {
      "cell_type": "markdown",
      "metadata": {
        "id": "9ccrcAIgJCDD"
      },
      "source": [
        "Выполнил: 6233-010402В, Борисов Д.С."
      ]
    },
    {
      "cell_type": "markdown",
      "metadata": {
        "id": "tKQ6e_pvJCDE"
      },
      "source": [
        "### Задание\n",
        "\n",
        "В данной лабораторной работе будет практиковаться материал из лекций по TensorFlow на примере решения задачи классификации изображений из датасета Fashion MNIST. Fashion MNIST - набор черно-белых изображений размера 28х28, что поделены на 10 классов. Будет построена с нуля и обучена модель логистической регрессии используя как низкоуровневый API. Опционально решение той же задачи нейронной сетью, построенной и обученной с использованием Keras."
      ]
    },
    {
      "cell_type": "code",
      "execution_count": 1,
      "metadata": {
        "id": "8czNxQU1JCDF"
      },
      "outputs": [],
      "source": [
        "%matplotlib inline\n",
        "import matplotlib.pyplot as plt\n",
        "import numpy as np\n",
        "import pandas as pd\n",
        "import tensorflow as tf\n",
        "from tqdm import tqdm"
      ]
    },
    {
      "cell_type": "markdown",
      "metadata": {
        "id": "lOo9a97pJCDE"
      },
      "source": [
        "0 Базовые операции. \n",
        "   - 0.1 Сгенерируйте три непересекающихся гауссовых облака, используя `tf.random`. Визуализируйте их разными цветами, используя matplotlib. \n",
        "   - 0.2 Сгенерируйте случайную матрицу 2x2, умножьте каждую точку в облаках на эту матрицу. Повторно визуализируйте облака."
      ]
    },
    {
      "cell_type": "code",
      "source": [
        "# 0.1\n",
        "N_points = 100\n",
        "\n",
        "cloud1 = tf.random.normal((N_points, 2), mean=[1, 1], stddev=1)\n",
        "cloud2 = tf.random.normal((N_points, 2), mean=[10, 5], stddev=1)\n",
        "cloud3 = tf.random.normal((N_points, 2), mean=[5, 10], stddev=1)\n",
        "\n",
        "cloud_vstack = np.vstack([cloud1, cloud2, cloud3])\n",
        "\n",
        "labels = [0]*N_points + [1]*N_points + [2]*N_points\n",
        "\n",
        "df_data = pd.DataFrame(data=cloud_vstack, index=labels, columns=['x', 'y'])"
      ],
      "metadata": {
        "id": "QQvx5y0rKOok"
      },
      "execution_count": 2,
      "outputs": []
    },
    {
      "cell_type": "code",
      "source": [
        "df_data"
      ],
      "metadata": {
        "colab": {
          "base_uri": "https://localhost:8080/",
          "height": 423
        },
        "id": "8OPhtUKaOHwE",
        "outputId": "26c9318b-6a20-4e97-ca07-f54db065744a"
      },
      "execution_count": 3,
      "outputs": [
        {
          "output_type": "execute_result",
          "data": {
            "text/plain": [
              "           x          y\n",
              "0  -0.030459   1.557909\n",
              "0   1.726860   2.058536\n",
              "0   1.244979   0.723491\n",
              "0   1.959969   0.919227\n",
              "0   0.269715   2.867544\n",
              "..       ...        ...\n",
              "2   3.967207   9.712507\n",
              "2   5.954034   7.980791\n",
              "2   5.007346   7.843644\n",
              "2   6.003503  11.068775\n",
              "2   5.375485   9.571700\n",
              "\n",
              "[300 rows x 2 columns]"
            ],
            "text/html": [
              "\n",
              "  <div id=\"df-c8d591f5-3c95-4ff9-94c6-c39565357fb0\">\n",
              "    <div class=\"colab-df-container\">\n",
              "      <div>\n",
              "<style scoped>\n",
              "    .dataframe tbody tr th:only-of-type {\n",
              "        vertical-align: middle;\n",
              "    }\n",
              "\n",
              "    .dataframe tbody tr th {\n",
              "        vertical-align: top;\n",
              "    }\n",
              "\n",
              "    .dataframe thead th {\n",
              "        text-align: right;\n",
              "    }\n",
              "</style>\n",
              "<table border=\"1\" class=\"dataframe\">\n",
              "  <thead>\n",
              "    <tr style=\"text-align: right;\">\n",
              "      <th></th>\n",
              "      <th>x</th>\n",
              "      <th>y</th>\n",
              "    </tr>\n",
              "  </thead>\n",
              "  <tbody>\n",
              "    <tr>\n",
              "      <th>0</th>\n",
              "      <td>-0.030459</td>\n",
              "      <td>1.557909</td>\n",
              "    </tr>\n",
              "    <tr>\n",
              "      <th>0</th>\n",
              "      <td>1.726860</td>\n",
              "      <td>2.058536</td>\n",
              "    </tr>\n",
              "    <tr>\n",
              "      <th>0</th>\n",
              "      <td>1.244979</td>\n",
              "      <td>0.723491</td>\n",
              "    </tr>\n",
              "    <tr>\n",
              "      <th>0</th>\n",
              "      <td>1.959969</td>\n",
              "      <td>0.919227</td>\n",
              "    </tr>\n",
              "    <tr>\n",
              "      <th>0</th>\n",
              "      <td>0.269715</td>\n",
              "      <td>2.867544</td>\n",
              "    </tr>\n",
              "    <tr>\n",
              "      <th>...</th>\n",
              "      <td>...</td>\n",
              "      <td>...</td>\n",
              "    </tr>\n",
              "    <tr>\n",
              "      <th>2</th>\n",
              "      <td>3.967207</td>\n",
              "      <td>9.712507</td>\n",
              "    </tr>\n",
              "    <tr>\n",
              "      <th>2</th>\n",
              "      <td>5.954034</td>\n",
              "      <td>7.980791</td>\n",
              "    </tr>\n",
              "    <tr>\n",
              "      <th>2</th>\n",
              "      <td>5.007346</td>\n",
              "      <td>7.843644</td>\n",
              "    </tr>\n",
              "    <tr>\n",
              "      <th>2</th>\n",
              "      <td>6.003503</td>\n",
              "      <td>11.068775</td>\n",
              "    </tr>\n",
              "    <tr>\n",
              "      <th>2</th>\n",
              "      <td>5.375485</td>\n",
              "      <td>9.571700</td>\n",
              "    </tr>\n",
              "  </tbody>\n",
              "</table>\n",
              "<p>300 rows × 2 columns</p>\n",
              "</div>\n",
              "      <button class=\"colab-df-convert\" onclick=\"convertToInteractive('df-c8d591f5-3c95-4ff9-94c6-c39565357fb0')\"\n",
              "              title=\"Convert this dataframe to an interactive table.\"\n",
              "              style=\"display:none;\">\n",
              "        \n",
              "  <svg xmlns=\"http://www.w3.org/2000/svg\" height=\"24px\"viewBox=\"0 0 24 24\"\n",
              "       width=\"24px\">\n",
              "    <path d=\"M0 0h24v24H0V0z\" fill=\"none\"/>\n",
              "    <path d=\"M18.56 5.44l.94 2.06.94-2.06 2.06-.94-2.06-.94-.94-2.06-.94 2.06-2.06.94zm-11 1L8.5 8.5l.94-2.06 2.06-.94-2.06-.94L8.5 2.5l-.94 2.06-2.06.94zm10 10l.94 2.06.94-2.06 2.06-.94-2.06-.94-.94-2.06-.94 2.06-2.06.94z\"/><path d=\"M17.41 7.96l-1.37-1.37c-.4-.4-.92-.59-1.43-.59-.52 0-1.04.2-1.43.59L10.3 9.45l-7.72 7.72c-.78.78-.78 2.05 0 2.83L4 21.41c.39.39.9.59 1.41.59.51 0 1.02-.2 1.41-.59l7.78-7.78 2.81-2.81c.8-.78.8-2.07 0-2.86zM5.41 20L4 18.59l7.72-7.72 1.47 1.35L5.41 20z\"/>\n",
              "  </svg>\n",
              "      </button>\n",
              "      \n",
              "  <style>\n",
              "    .colab-df-container {\n",
              "      display:flex;\n",
              "      flex-wrap:wrap;\n",
              "      gap: 12px;\n",
              "    }\n",
              "\n",
              "    .colab-df-convert {\n",
              "      background-color: #E8F0FE;\n",
              "      border: none;\n",
              "      border-radius: 50%;\n",
              "      cursor: pointer;\n",
              "      display: none;\n",
              "      fill: #1967D2;\n",
              "      height: 32px;\n",
              "      padding: 0 0 0 0;\n",
              "      width: 32px;\n",
              "    }\n",
              "\n",
              "    .colab-df-convert:hover {\n",
              "      background-color: #E2EBFA;\n",
              "      box-shadow: 0px 1px 2px rgba(60, 64, 67, 0.3), 0px 1px 3px 1px rgba(60, 64, 67, 0.15);\n",
              "      fill: #174EA6;\n",
              "    }\n",
              "\n",
              "    [theme=dark] .colab-df-convert {\n",
              "      background-color: #3B4455;\n",
              "      fill: #D2E3FC;\n",
              "    }\n",
              "\n",
              "    [theme=dark] .colab-df-convert:hover {\n",
              "      background-color: #434B5C;\n",
              "      box-shadow: 0px 1px 3px 1px rgba(0, 0, 0, 0.15);\n",
              "      filter: drop-shadow(0px 1px 2px rgba(0, 0, 0, 0.3));\n",
              "      fill: #FFFFFF;\n",
              "    }\n",
              "  </style>\n",
              "\n",
              "      <script>\n",
              "        const buttonEl =\n",
              "          document.querySelector('#df-c8d591f5-3c95-4ff9-94c6-c39565357fb0 button.colab-df-convert');\n",
              "        buttonEl.style.display =\n",
              "          google.colab.kernel.accessAllowed ? 'block' : 'none';\n",
              "\n",
              "        async function convertToInteractive(key) {\n",
              "          const element = document.querySelector('#df-c8d591f5-3c95-4ff9-94c6-c39565357fb0');\n",
              "          const dataTable =\n",
              "            await google.colab.kernel.invokeFunction('convertToInteractive',\n",
              "                                                     [key], {});\n",
              "          if (!dataTable) return;\n",
              "\n",
              "          const docLinkHtml = 'Like what you see? Visit the ' +\n",
              "            '<a target=\"_blank\" href=https://colab.research.google.com/notebooks/data_table.ipynb>data table notebook</a>'\n",
              "            + ' to learn more about interactive tables.';\n",
              "          element.innerHTML = '';\n",
              "          dataTable['output_type'] = 'display_data';\n",
              "          await google.colab.output.renderOutput(dataTable, element);\n",
              "          const docLink = document.createElement('div');\n",
              "          docLink.innerHTML = docLinkHtml;\n",
              "          element.appendChild(docLink);\n",
              "        }\n",
              "      </script>\n",
              "    </div>\n",
              "  </div>\n",
              "  "
            ]
          },
          "metadata": {},
          "execution_count": 3
        }
      ]
    },
    {
      "cell_type": "code",
      "source": [
        "plt.scatter(df_data['x'], df_data['y'], c=labels, marker=\".\")"
      ],
      "metadata": {
        "colab": {
          "base_uri": "https://localhost:8080/",
          "height": 283
        },
        "id": "yQLniPyhOt6Z",
        "outputId": "c4ad41ce-c079-4162-996e-de1bf5fb0657"
      },
      "execution_count": 4,
      "outputs": [
        {
          "output_type": "execute_result",
          "data": {
            "text/plain": [
              "<matplotlib.collections.PathCollection at 0x7f3703bb7710>"
            ]
          },
          "metadata": {},
          "execution_count": 4
        },
        {
          "output_type": "display_data",
          "data": {
            "text/plain": [
              "<Figure size 432x288 with 1 Axes>"
            ],
            "image/png": "[encoded data removed]"
          },
          "metadata": {
            "needs_background": "light"
          }
        }
      ]
    },
    {
      "cell_type": "code",
      "source": [
        "# 0.2\n",
        "matrix = tf.random.normal((2, 2))\n",
        "print(matrix)"
      ],
      "metadata": {
        "colab": {
          "base_uri": "https://localhost:8080/"
        },
        "id": "1M6noRoLRSx3",
        "outputId": "f38f0955-1ce4-4576-8f4e-49690ed77a8e"
      },
      "execution_count": 5,
      "outputs": [
        {
          "output_type": "stream",
          "name": "stdout",
          "text": [
            "tf.Tensor(\n",
            "[[ 0.5817414   0.9613957 ]\n",
            " [-0.60136443 -1.3269057 ]], shape=(2, 2), dtype=float32)\n"
          ]
        }
      ]
    },
    {
      "cell_type": "code",
      "source": [
        "new_clouds = df_data.dot(matrix)\n",
        "new_clouds"
      ],
      "metadata": {
        "colab": {
          "base_uri": "https://localhost:8080/",
          "height": 423
        },
        "id": "JttX8a8cRsjR",
        "outputId": "a83af44d-bc30-4b5e-9cf8-f3883dbc498f"
      },
      "execution_count": 6,
      "outputs": [
        {
          "output_type": "execute_result",
          "data": {
            "text/plain": [
              "           0         1\n",
              "0  -0.954590 -2.096482\n",
              "0  -0.233344 -1.071287\n",
              "0   0.289174  0.236913\n",
              "0   0.587404  0.664578\n",
              "0  -1.567535 -3.545658\n",
              "..       ...       ...\n",
              "2  -3.532868 -9.073525\n",
              "2  -1.335656 -4.865575\n",
              "2  -1.803908 -5.593736\n",
              "2  -3.163881 -8.915479\n",
              "2  -2.628937 -7.532775\n",
              "\n",
              "[300 rows x 2 columns]"
            ],
            "text/html": [
              "\n",
              "  <div id=\"df-7704de7b-96e3-4b16-a589-7c9ac9853aa1\">\n",
              "    <div class=\"colab-df-container\">\n",
              "      <div>\n",
              "<style scoped>\n",
              "    .dataframe tbody tr th:only-of-type {\n",
              "        vertical-align: middle;\n",
              "    }\n",
              "\n",
              "    .dataframe tbody tr th {\n",
              "        vertical-align: top;\n",
              "    }\n",
              "\n",
              "    .dataframe thead th {\n",
              "        text-align: right;\n",
              "    }\n",
              "</style>\n",
              "<table border=\"1\" class=\"dataframe\">\n",
              "  <thead>\n",
              "    <tr style=\"text-align: right;\">\n",
              "      <th></th>\n",
              "      <th>0</th>\n",
              "      <th>1</th>\n",
              "    </tr>\n",
              "  </thead>\n",
              "  <tbody>\n",
              "    <tr>\n",
              "      <th>0</th>\n",
              "      <td>-0.954590</td>\n",
              "      <td>-2.096482</td>\n",
              "    </tr>\n",
              "    <tr>\n",
              "      <th>0</th>\n",
              "      <td>-0.233344</td>\n",
              "      <td>-1.071287</td>\n",
              "    </tr>\n",
              "    <tr>\n",
              "      <th>0</th>\n",
              "      <td>0.289174</td>\n",
              "      <td>0.236913</td>\n",
              "    </tr>\n",
              "    <tr>\n",
              "      <th>0</th>\n",
              "      <td>0.587404</td>\n",
              "      <td>0.664578</td>\n",
              "    </tr>\n",
              "    <tr>\n",
              "      <th>0</th>\n",
              "      <td>-1.567535</td>\n",
              "      <td>-3.545658</td>\n",
              "    </tr>\n",
              "    <tr>\n",
              "      <th>...</th>\n",
              "      <td>...</td>\n",
              "      <td>...</td>\n",
              "    </tr>\n",
              "    <tr>\n",
              "      <th>2</th>\n",
              "      <td>-3.532868</td>\n",
              "      <td>-9.073525</td>\n",
              "    </tr>\n",
              "    <tr>\n",
              "      <th>2</th>\n",
              "      <td>-1.335656</td>\n",
              "      <td>-4.865575</td>\n",
              "    </tr>\n",
              "    <tr>\n",
              "      <th>2</th>\n",
              "      <td>-1.803908</td>\n",
              "      <td>-5.593736</td>\n",
              "    </tr>\n",
              "    <tr>\n",
              "      <th>2</th>\n",
              "      <td>-3.163881</td>\n",
              "      <td>-8.915479</td>\n",
              "    </tr>\n",
              "    <tr>\n",
              "      <th>2</th>\n",
              "      <td>-2.628937</td>\n",
              "      <td>-7.532775</td>\n",
              "    </tr>\n",
              "  </tbody>\n",
              "</table>\n",
              "<p>300 rows × 2 columns</p>\n",
              "</div>\n",
              "      <button class=\"colab-df-convert\" onclick=\"convertToInteractive('df-7704de7b-96e3-4b16-a589-7c9ac9853aa1')\"\n",
              "              title=\"Convert this dataframe to an interactive table.\"\n",
              "              style=\"display:none;\">\n",
              "        \n",
              "  <svg xmlns=\"http://www.w3.org/2000/svg\" height=\"24px\"viewBox=\"0 0 24 24\"\n",
              "       width=\"24px\">\n",
              "    <path d=\"M0 0h24v24H0V0z\" fill=\"none\"/>\n",
              "    <path d=\"M18.56 5.44l.94 2.06.94-2.06 2.06-.94-2.06-.94-.94-2.06-.94 2.06-2.06.94zm-11 1L8.5 8.5l.94-2.06 2.06-.94-2.06-.94L8.5 2.5l-.94 2.06-2.06.94zm10 10l.94 2.06.94-2.06 2.06-.94-2.06-.94-.94-2.06-.94 2.06-2.06.94z\"/><path d=\"M17.41 7.96l-1.37-1.37c-.4-.4-.92-.59-1.43-.59-.52 0-1.04.2-1.43.59L10.3 9.45l-7.72 7.72c-.78.78-.78 2.05 0 2.83L4 21.41c.39.39.9.59 1.41.59.51 0 1.02-.2 1.41-.59l7.78-7.78 2.81-2.81c.8-.78.8-2.07 0-2.86zM5.41 20L4 18.59l7.72-7.72 1.47 1.35L5.41 20z\"/>\n",
              "  </svg>\n",
              "      </button>\n",
              "      \n",
              "  <style>\n",
              "    .colab-df-container {\n",
              "      display:flex;\n",
              "      flex-wrap:wrap;\n",
              "      gap: 12px;\n",
              "    }\n",
              "\n",
              "    .colab-df-convert {\n",
              "      background-color: #E8F0FE;\n",
              "      border: none;\n",
              "      border-radius: 50%;\n",
              "      cursor: pointer;\n",
              "      display: none;\n",
              "      fill: #1967D2;\n",
              "      height: 32px;\n",
              "      padding: 0 0 0 0;\n",
              "      width: 32px;\n",
              "    }\n",
              "\n",
              "    .colab-df-convert:hover {\n",
              "      background-color: #E2EBFA;\n",
              "      box-shadow: 0px 1px 2px rgba(60, 64, 67, 0.3), 0px 1px 3px 1px rgba(60, 64, 67, 0.15);\n",
              "      fill: #174EA6;\n",
              "    }\n",
              "\n",
              "    [theme=dark] .colab-df-convert {\n",
              "      background-color: #3B4455;\n",
              "      fill: #D2E3FC;\n",
              "    }\n",
              "\n",
              "    [theme=dark] .colab-df-convert:hover {\n",
              "      background-color: #434B5C;\n",
              "      box-shadow: 0px 1px 3px 1px rgba(0, 0, 0, 0.15);\n",
              "      filter: drop-shadow(0px 1px 2px rgba(0, 0, 0, 0.3));\n",
              "      fill: #FFFFFF;\n",
              "    }\n",
              "  </style>\n",
              "\n",
              "      <script>\n",
              "        const buttonEl =\n",
              "          document.querySelector('#df-7704de7b-96e3-4b16-a589-7c9ac9853aa1 button.colab-df-convert');\n",
              "        buttonEl.style.display =\n",
              "          google.colab.kernel.accessAllowed ? 'block' : 'none';\n",
              "\n",
              "        async function convertToInteractive(key) {\n",
              "          const element = document.querySelector('#df-7704de7b-96e3-4b16-a589-7c9ac9853aa1');\n",
              "          const dataTable =\n",
              "            await google.colab.kernel.invokeFunction('convertToInteractive',\n",
              "                                                     [key], {});\n",
              "          if (!dataTable) return;\n",
              "\n",
              "          const docLinkHtml = 'Like what you see? Visit the ' +\n",
              "            '<a target=\"_blank\" href=https://colab.research.google.com/notebooks/data_table.ipynb>data table notebook</a>'\n",
              "            + ' to learn more about interactive tables.';\n",
              "          element.innerHTML = '';\n",
              "          dataTable['output_type'] = 'display_data';\n",
              "          await google.colab.output.renderOutput(dataTable, element);\n",
              "          const docLink = document.createElement('div');\n",
              "          docLink.innerHTML = docLinkHtml;\n",
              "          element.appendChild(docLink);\n",
              "        }\n",
              "      </script>\n",
              "    </div>\n",
              "  </div>\n",
              "  "
            ]
          },
          "metadata": {},
          "execution_count": 6
        }
      ]
    },
    {
      "cell_type": "code",
      "source": [
        "plt.scatter(new_clouds[0], new_clouds[1], c=labels, marker=\".\")"
      ],
      "metadata": {
        "colab": {
          "base_uri": "https://localhost:8080/",
          "height": 283
        },
        "id": "OWZCVu78SFie",
        "outputId": "fa2f054e-74c9-48d9-909f-171bd03b39e2"
      },
      "execution_count": 7,
      "outputs": [
        {
          "output_type": "execute_result",
          "data": {
            "text/plain": [
              "<matplotlib.collections.PathCollection at 0x7f3703bb7510>"
            ]
          },
          "metadata": {},
          "execution_count": 7
        },
        {
          "output_type": "display_data",
          "data": {
            "text/plain": [
              "<Figure size 432x288 with 1 Axes>"
            ],
            "image/png": "[encoded data removed]"
          },
          "metadata": {
            "needs_background": "light"
          }
        }
      ]
    },
    {
      "cell_type": "markdown",
      "metadata": {
        "id": "-MPEcGnuJCDG"
      },
      "source": [
        "1 Загрузите датасет Fashion MNIST, используя метод из [tf.keras.datasets](https://www.tensorflow.org/api_docs/python/tf/keras/datasets). Визуализируйте несколько изображений, используя библиотеку matplotlib."
      ]
    },
    {
      "cell_type": "code",
      "execution_count": 8,
      "metadata": {
        "colab": {
          "base_uri": "https://localhost:8080/"
        },
        "id": "qou5SrzRJCDG",
        "outputId": "bcd9f3f4-845c-4891-8784-82413c20b753"
      },
      "outputs": [
        {
          "output_type": "execute_result",
          "data": {
            "text/plain": [
              "((60000, 28, 28), (60000,), (10000, 28, 28), (10000,))"
            ]
          },
          "metadata": {},
          "execution_count": 8
        }
      ],
      "source": [
        "(X_train, y_train), (X_test, y_test) = tf.keras.datasets.fashion_mnist.load_data()\n",
        "\n",
        "class_names = ['T-shirt/top', 'Trouser', 'Pullover', 'Dress', 'Coat',\n",
        "               'Sandal', 'Shirt', 'Sneaker', 'Bag', 'Ankle boot']\n",
        "\n",
        "X_train.shape, y_train.shape, X_test.shape, y_test.shape"
      ]
    },
    {
      "cell_type": "code",
      "source": [
        "X_train = X_train.astype('float32')\n",
        "X_test = X_test.astype('float32')\n",
        "\n",
        "y_train = y_train.astype('int32')\n",
        "y_test = y_test.astype('int32')"
      ],
      "metadata": {
        "id": "rSo9lzpUfndv"
      },
      "execution_count": 9,
      "outputs": []
    },
    {
      "cell_type": "code",
      "source": [
        "plt.figure(figsize=(15,20))\n",
        "for i in range(len(class_names)):\n",
        "    ax = plt.subplot(1,len(class_names),i+1)\n",
        "    ax.imshow(X_train[i], cmap='binary')\n",
        "    ax.set_title(class_names[y_train[i]])\n",
        "    ax.set_xticks([])\n",
        "    ax.set_yticks([])\n",
        "plt.show()"
      ],
      "metadata": {
        "colab": {
          "base_uri": "https://localhost:8080/",
          "height": 121
        },
        "id": "81wOy3ybS-Oh",
        "outputId": "2836316b-654b-48e7-819c-bddf2ee4cb91"
      },
      "execution_count": 10,
      "outputs": [
        {
          "output_type": "display_data",
          "data": {
            "text/plain": [
              "<Figure size 1080x1440 with 10 Axes>"
            ],
            "image/png": "[encoded data removed]"
          },
          "metadata": {}
        }
      ]
    },
    {
      "cell_type": "markdown",
      "metadata": {
        "id": "EFNbyaNJJCDG"
      },
      "source": [
        "2 Нормализуйте данные либо средним и СКО, либо приведя значения пикселей в интервал [-1, 1]."
      ]
    },
    {
      "cell_type": "code",
      "source": [
        "mean, std = np.mean(X_train), np.std(X_train)\n",
        "mean, std"
      ],
      "metadata": {
        "colab": {
          "base_uri": "https://localhost:8080/"
        },
        "id": "ATZ1gx58eRkp",
        "outputId": "82450fc6-3340-48ef-ba9e-981036afabce"
      },
      "execution_count": 11,
      "outputs": [
        {
          "output_type": "execute_result",
          "data": {
            "text/plain": [
              "(72.94042, 90.02121)"
            ]
          },
          "metadata": {},
          "execution_count": 11
        }
      ]
    },
    {
      "cell_type": "code",
      "execution_count": 12,
      "metadata": {
        "id": "WBSS2Q9SJCDH"
      },
      "outputs": [],
      "source": [
        "X_train = (X_train - mean) / std\n",
        "X_test = (X_test - mean) / std"
      ]
    },
    {
      "cell_type": "code",
      "source": [
        "np.mean(X_train), np.std(X_train)"
      ],
      "metadata": {
        "colab": {
          "base_uri": "https://localhost:8080/"
        },
        "id": "fogRFjUiWlov",
        "outputId": "2cfe9a14-2e2b-4e62-eb8e-3790910b6f71"
      },
      "execution_count": 13,
      "outputs": [
        {
          "output_type": "execute_result",
          "data": {
            "text/plain": [
              "(-7.9631286e-07, 1.0000011)"
            ]
          },
          "metadata": {},
          "execution_count": 13
        }
      ]
    },
    {
      "cell_type": "markdown",
      "metadata": {
        "id": "p3GUk5G0JCDH"
      },
      "source": [
        "3 Создайте обучающий и тестовый TensorFlow Dataset из нормализованного набора данных. К обучающему датасету добавьте перемешивание (`.shuffle`). К обоим датасетам добавьте генерацию батчей размера 128 (`.batch(128)`)."
      ]
    },
    {
      "cell_type": "code",
      "execution_count": 14,
      "metadata": {
        "id": "MzaNLUrdJCDI"
      },
      "outputs": [],
      "source": [
        "train_dataset = tf.data.Dataset.from_tensor_slices((X_train, y_train))\n",
        "test_dataset = tf.data.Dataset.from_tensor_slices((X_test, y_test))\n",
        "\n",
        "train_dataset = train_dataset.shuffle(buffer_size=len(X_train), reshuffle_each_iteration=True)\n",
        "test_dataset = test_dataset.shuffle(buffer_size=len(X_test), reshuffle_each_iteration=True)\n",
        "\n",
        "train_dataset = train_dataset.batch(128, drop_remainder=True)\n",
        "test_dataset = test_dataset.batch(128, drop_remainder=True)"
      ]
    },
    {
      "cell_type": "markdown",
      "metadata": {
        "id": "TldiM5aRJCDI"
      },
      "source": [
        "4 Напишите класс слоя `Flatten`, что трансформирует изображения из матричного в векторный вид: [28, 28] -> [28 * 28]. Класс слоя должен наследоваться от `tf.Module`. Для трансформации тензоров изображений использовать `tf.reshape`."
      ]
    },
    {
      "cell_type": "code",
      "execution_count": 15,
      "metadata": {
        "id": "r21lZXFxJCDI"
      },
      "outputs": [],
      "source": [
        "class Flatten(tf.Module):\n",
        "\n",
        "    def __init__(self, name=None):\n",
        "        super().__init__(name=name)\n",
        "\n",
        "    def __call__(self, data):\n",
        "        old_shape = tf.shape(data)\n",
        "        if len(old_shape) == 1:\n",
        "            new_shape = old_shape\n",
        "        elif len(old_shape) == 2:\n",
        "            new_shape = (1, tf.math.reduce_prod(old_shape))\n",
        "        else:\n",
        "            new_shape = (old_shape[0], tf.math.reduce_prod(old_shape[1:]))\n",
        "        return tf.reshape(data, new_shape)"
      ]
    },
    {
      "cell_type": "markdown",
      "metadata": {
        "id": "FFSHbtGqJCDI"
      },
      "source": [
        "5 Напишите класс линейного слоя `Linear`, что умножает входной вектор на матрицу весов. Класс слоя должен наследоваться от `tf.Module`. Матрицу весов хранить в `tf.Variable`. Параметры конструктора: `in_d` - размерность входного вектора, `out_d` - размерность выходного вектора. В качестве начальной инициализации весов использовать гауссово распределение с СКО=0.01."
      ]
    },
    {
      "cell_type": "code",
      "execution_count": 16,
      "metadata": {
        "id": "4WW2BNGxJCDI"
      },
      "outputs": [],
      "source": [
        "class Linear(tf.Module):\n",
        "    def __init__(self, in_d, out_d, name=None):\n",
        "        super().__init__(name=name)\n",
        "        w = tf.random.normal(shape=[in_d, out_d], stddev=0.01, dtype='float32')\n",
        "        self.w = tf.Variable(w, \n",
        "                             name='weights' if name is None else f'{name}_weights')\n",
        "        self.b = tf.Variable(tf.zeros(out_d, dtype='float32'), \n",
        "                             name='bias' if name is None else f'{name}_bias')\n",
        "        \n",
        "    def __call__(self, x):\n",
        "        return tf.matmul(x, self.w) + self.b"
      ]
    },
    {
      "cell_type": "markdown",
      "metadata": {
        "id": "jgVHVsoRJCDJ"
      },
      "source": [
        "6 Напишите класс модели логистической регрессии `LogisticRegression`, что компонует в себе слои `Linear` и `Flatten`. Класс модели должен наследоваться от `tf.Module`. В качестве функции активации используйте `tf.nn.softmax`.\n",
        "Создайте объект модели и попробуйте с помощью неё классифицировать одно изображение (не забудьте о размерности батча! Она будет равна 1)."
      ]
    },
    {
      "cell_type": "code",
      "execution_count": 17,
      "metadata": {
        "id": "z7-KlCu8JCDJ"
      },
      "outputs": [],
      "source": [
        "class LogisticRegression(tf.Module):\n",
        "    def __init__(self, in_d, out_d=10, name='logistic_regression'):\n",
        "        super().__init__(name=name)\n",
        "\n",
        "        self.flatten = Flatten(name=f'{name}_flatten')\n",
        "        self.linear = Linear(in_d, out_d, name=f'{name}_linear')\n",
        "    \n",
        "    def __call__(self, x):\n",
        "        x = self.flatten(x)\n",
        "        x = self.linear(x)\n",
        "        return tf.nn.softmax(x)"
      ]
    },
    {
      "cell_type": "code",
      "source": [
        "model = LogisticRegression(in_d=np.prod(X_train.shape[1:]), out_d=len(class_names))\n",
        "preds = model(X_train[0:1])\n",
        "print(preds)"
      ],
      "metadata": {
        "colab": {
          "base_uri": "https://localhost:8080/"
        },
        "id": "oq9Lhefia9oa",
        "outputId": "517c5992-ee18-4319-f8d4-dfae69268acd"
      },
      "execution_count": 18,
      "outputs": [
        {
          "output_type": "stream",
          "name": "stdout",
          "text": [
            "tf.Tensor(\n",
            "[[0.17981428 0.07828154 0.10093217 0.09592935 0.12694873 0.0696504\n",
            "  0.06768547 0.06886622 0.12657109 0.08532081]], shape=(1, 10), dtype=float32)\n"
          ]
        }
      ]
    },
    {
      "cell_type": "code",
      "source": [
        "print(tf.argmax(preds, axis=1))"
      ],
      "metadata": {
        "colab": {
          "base_uri": "https://localhost:8080/"
        },
        "id": "fmrEbJgGbmy4",
        "outputId": "0fe16d35-c55b-4474-9027-5d8ce9ff9442"
      },
      "execution_count": 19,
      "outputs": [
        {
          "output_type": "stream",
          "name": "stdout",
          "text": [
            "tf.Tensor([0], shape=(1,), dtype=int64)\n"
          ]
        }
      ]
    },
    {
      "cell_type": "markdown",
      "metadata": {
        "id": "BUL2MI6tJCDJ"
      },
      "source": [
        "7 Напишите функцию оценки точности модели `evaluate`. Список её аргументов: тестовый tf.Dataset, модель. Данная функция будет отличаться оной из лекций тем, что внутри неё не будет ручной выборки батчей из датасета, поскольку tf.Dataset уже делает это за нас."
      ]
    },
    {
      "cell_type": "code",
      "execution_count": 20,
      "metadata": {
        "id": "_ZihBMMoJCDJ"
      },
      "outputs": [],
      "source": [
        "def accuracy(y_true, y_pred):\n",
        "    eq = tf.cast(y_true == y_pred, 'float32')\n",
        "    return tf.reduce_mean(eq)\n",
        "\n",
        "\n",
        "def evaluate(model, dataset):\n",
        "    y_preds = []\n",
        "    y_true = []\n",
        "\n",
        "    for x, y in dataset:\n",
        "        preds = tf.argmax(model(x), axis=-1)\n",
        "        y_preds.extend(preds)\n",
        "        y_true.extend(y)\n",
        "\n",
        "    return accuracy(tf.cast(y_true, 'int32'), tf.cast(y_preds, 'int32')).numpy()"
      ]
    },
    {
      "cell_type": "markdown",
      "metadata": {
        "id": "MmrxS1XlJCDK"
      },
      "source": [
        "8 Напишите функцию обучающего шага `train_step`. Данная функция будет немного отличаться от показанной в лекции тем, что ей на вход также дается функция ошибки. Полный список аргументов: модель, тупл данных (батч картинок, батч меток), оптимизатор, функция ошибки. Функция `train_step` должна возвращать вычисленное значение функции ошибки.\n",
        "\n",
        "В данной лабораторной функция ошибки не будет писаться заново, будет использоваться готовая кросс-энтропия из Keras."
      ]
    },
    {
      "cell_type": "code",
      "execution_count": 21,
      "metadata": {
        "id": "Xc-289UVJCDK"
      },
      "outputs": [],
      "source": [
        "def train_step(model, data, optimizer, func_loss):\n",
        "    with tf.GradientTape() as tape:\n",
        "        x, y = data\n",
        "        preds = model(x)\n",
        "        loss = func_loss(y, preds)\n",
        "    gradients = tape.gradient(loss, model.trainable_variables)\n",
        "    optimizer.apply_gradients(zip(gradients, model.trainable_variables))\n",
        "    return loss"
      ]
    },
    {
      "cell_type": "markdown",
      "metadata": {
        "id": "ngjII4mGJCDK"
      },
      "source": [
        "9 Оцените точность модели."
      ]
    },
    {
      "cell_type": "code",
      "execution_count": 22,
      "metadata": {
        "colab": {
          "base_uri": "https://localhost:8080/"
        },
        "id": "9bhuzCn1JCDK",
        "outputId": "859486fa-c988-439d-d62d-3809ee1db643"
      },
      "outputs": [
        {
          "output_type": "execute_result",
          "data": {
            "text/plain": [
              "0.075921476"
            ]
          },
          "metadata": {},
          "execution_count": 22
        }
      ],
      "source": [
        "evaluate(model, test_dataset)"
      ]
    },
    {
      "cell_type": "markdown",
      "metadata": {
        "id": "h3cdY9tiJCDK"
      },
      "source": [
        "10 Подготовьте гиперпараметры обучения: оптимизатор, функция ошибки ([tf.keras.losses.SparseCategoricalCrossentropy](https://www.tensorflow.org/api_docs/python/tf/keras/losses/SparseCategoricalCrossentropy)), количество эпох."
      ]
    },
    {
      "cell_type": "code",
      "execution_count": 23,
      "metadata": {
        "id": "aNlhNbo1JCDL"
      },
      "outputs": [],
      "source": [
        "optimizer = tf.optimizers.Adam(learning_rate=0.005)\n",
        "loss_func = tf.keras.losses.SparseCategoricalCrossentropy()\n",
        "num_epochs = 10\n",
        "\n",
        "print_period = 200"
      ]
    },
    {
      "cell_type": "markdown",
      "metadata": {
        "id": "4F--PZT1JCDL"
      },
      "source": [
        "11 Напишите обучающий цикл. Цикл состоит из внешнего цикла, что отсчитывает эпохи, и вложенного, что итерируется по обучающему датасету.\n",
        "Во вложенном цикле должна вызываться функция `train_step`. Каждую эпоху модель должна тестироваться функцией `evaluate`. Должны выводиться номер эпохи, значение ошибки и точности. Сохраняйте значения ошибки и точности в списки. Обучите модель. По ходу обучения подбирайте более оптимальные гиперпараметры обучения (learning_rate, другой оптимизатор)."
      ]
    },
    {
      "cell_type": "code",
      "execution_count": 24,
      "metadata": {
        "colab": {
          "base_uri": "https://localhost:8080/"
        },
        "id": "nMoBGzx2JCDL",
        "outputId": "acf39e93-7444-438c-a488-f65280b81964"
      },
      "outputs": [
        {
          "output_type": "stream",
          "name": "stdout",
          "text": [
            "Epoch: 0/10\n",
            "Iteration: 0 --- Loss: 2.310994863510132\n",
            "Iteration: 200 --- Loss: 0.5803613662719727\n",
            "Iteration: 400 --- Loss: 0.41234761476516724\n",
            "Epoch: 0/10 --- Accuracy: 0.8315304517745972\n",
            "Epoch: 1/10\n",
            "Iteration: 0 --- Loss: 0.533392071723938\n",
            "Iteration: 200 --- Loss: 0.47842440009117126\n",
            "Iteration: 400 --- Loss: 0.37015098333358765\n",
            "Epoch: 1/10 --- Accuracy: 0.8287259340286255\n",
            "Epoch: 2/10\n",
            "Iteration: 0 --- Loss: 0.4891631603240967\n",
            "Iteration: 200 --- Loss: 0.48214811086654663\n",
            "Iteration: 400 --- Loss: 0.4031285345554352\n",
            "Epoch: 2/10 --- Accuracy: 0.8334335088729858\n",
            "Epoch: 3/10\n",
            "Iteration: 0 --- Loss: 0.4813438653945923\n",
            "Iteration: 200 --- Loss: 0.48116111755371094\n",
            "Iteration: 400 --- Loss: 0.5597290396690369\n",
            "Epoch: 3/10 --- Accuracy: 0.8169070482254028\n",
            "Epoch: 4/10\n",
            "Iteration: 0 --- Loss: 0.4795330762863159\n",
            "Iteration: 200 --- Loss: 0.5654170513153076\n",
            "Iteration: 400 --- Loss: 0.4414771497249603\n",
            "Epoch: 4/10 --- Accuracy: 0.8265224099159241\n",
            "Epoch: 5/10\n",
            "Iteration: 0 --- Loss: 0.5497685670852661\n",
            "Iteration: 200 --- Loss: 0.5021607279777527\n",
            "Iteration: 400 --- Loss: 0.40030449628829956\n",
            "Epoch: 5/10 --- Accuracy: 0.8347355723381042\n",
            "Epoch: 6/10\n",
            "Iteration: 0 --- Loss: 0.3289143443107605\n",
            "Iteration: 200 --- Loss: 0.2708873152732849\n",
            "Iteration: 400 --- Loss: 0.4161102771759033\n",
            "Epoch: 6/10 --- Accuracy: 0.8287259340286255\n",
            "Epoch: 7/10\n",
            "Iteration: 0 --- Loss: 0.43537822365760803\n",
            "Iteration: 200 --- Loss: 0.4270913898944855\n",
            "Iteration: 400 --- Loss: 0.5506839752197266\n",
            "Epoch: 7/10 --- Accuracy: 0.8148036599159241\n",
            "Epoch: 8/10\n",
            "Iteration: 0 --- Loss: 0.3993408977985382\n",
            "Iteration: 200 --- Loss: 0.6171876192092896\n",
            "Iteration: 400 --- Loss: 0.4752826392650604\n",
            "Epoch: 8/10 --- Accuracy: 0.8343349099159241\n",
            "Epoch: 9/10\n",
            "Iteration: 0 --- Loss: 0.39745473861694336\n",
            "Iteration: 200 --- Loss: 0.45259183645248413\n",
            "Iteration: 400 --- Loss: 0.33690476417541504\n",
            "Epoch: 9/10 --- Accuracy: 0.8307291865348816\n"
          ]
        }
      ],
      "source": [
        "losses = []\n",
        "accuracies = []\n",
        "for epoch in range(num_epochs):\n",
        "    print(f'Epoch: {epoch}/{num_epochs}')\n",
        "    for i, data in enumerate(train_dataset):\n",
        "\n",
        "        loss = train_step(model, data, optimizer, loss_func)\n",
        "        loss_np = loss.numpy()\n",
        "        losses.append(loss_np)\n",
        "\n",
        "        if i % print_period == 0:\n",
        "            print(f'Iteration: {i} --- Loss: {loss.numpy()}')\n",
        "        losses.append(loss.numpy())\n",
        "        \n",
        "    acc = evaluate(model, test_dataset)\n",
        "    print(f'Epoch: {epoch}/{num_epochs} --- Accuracy: {acc}')\n",
        "    accuracies.append(acc)"
      ]
    },
    {
      "cell_type": "markdown",
      "metadata": {
        "id": "d-fmshv-JCDL"
      },
      "source": [
        "12 Выведите графики точности и ошибки, используя matplotlib."
      ]
    },
    {
      "cell_type": "code",
      "execution_count": 25,
      "metadata": {
        "colab": {
          "base_uri": "https://localhost:8080/",
          "height": 545
        },
        "id": "72KrD2o6JCDL",
        "outputId": "ad312c04-2602-4a61-f424-fd83631b1952"
      },
      "outputs": [
        {
          "output_type": "display_data",
          "data": {
            "text/plain": [
              "<Figure size 432x288 with 1 Axes>"
            ],
            "image/png": "[encoded data removed]"
          },
          "metadata": {
            "needs_background": "light"
          }
        },
        {
          "output_type": "display_data",
          "data": {
            "text/plain": [
              "<Figure size 432x288 with 1 Axes>"
            ],
            "image/png": "[encoded data removed]"
          },
          "metadata": {
            "needs_background": "light"
          }
        }
      ],
      "source": [
        "plt.plot(losses)\n",
        "plt.title(\"Loss\")\n",
        "plt.show()\n",
        "\n",
        "plt.plot(accuracies)\n",
        "plt.title(\"Accuracy\")\n",
        "plt.show()"
      ]
    },
    {
      "cell_type": "markdown",
      "metadata": {
        "id": "RhdED_ArJCDL"
      },
      "source": [
        "13 (Опционально) Постройте и обучите произвольную нейронную сеть с использованием Keras для решения той же задачи. "
      ]
    },
    {
      "cell_type": "code",
      "execution_count": 26,
      "metadata": {
        "id": "mxPmPxHrJCDL"
      },
      "outputs": [],
      "source": [
        "from keras.models import Sequential\n",
        "from keras.layers import Conv2D, MaxPooling2D, Dense, Flatten, Dropout\n",
        "from keras.optimizers import Adam"
      ]
    },
    {
      "cell_type": "code",
      "source": [
        "keras_model = Sequential([\n",
        "    Conv2D(filters=32, kernel_size=3, activation='relu', input_shape=(28, 28, 1)),\n",
        "    MaxPooling2D(pool_size=2),\n",
        "    Dropout(0.2),\n",
        "    Flatten(),\n",
        "    Dense(32, activation='relu'),\n",
        "    Dense(10, activation='softmax')\n",
        "])"
      ],
      "metadata": {
        "id": "wgkVn5dZo-7b"
      },
      "execution_count": 27,
      "outputs": []
    },
    {
      "cell_type": "code",
      "source": [
        "keras_model.compile(loss ='sparse_categorical_crossentropy', \n",
        "                    optimizer=Adam(lr=0.01),\n",
        "                    metrics =['accuracy'])"
      ],
      "metadata": {
        "colab": {
          "base_uri": "https://localhost:8080/"
        },
        "id": "yu5CuiZ8pNA2",
        "outputId": "40263afc-ed8c-4664-ad87-b445de925f89"
      },
      "execution_count": 28,
      "outputs": [
        {
          "output_type": "stream",
          "name": "stderr",
          "text": [
            "/usr/local/lib/python3.7/dist-packages/keras/optimizers/optimizer_v2/adam.py:110: UserWarning: The `lr` argument is deprecated, use `learning_rate` instead.\n",
            "  super(Adam, self).__init__(name, **kwargs)\n"
          ]
        }
      ]
    },
    {
      "cell_type": "code",
      "source": [
        "history = history = keras_model.fit(train_dataset,\n",
        "    epochs=num_epochs,\n",
        "    validation_data=test_dataset\n",
        ")"
      ],
      "metadata": {
        "colab": {
          "base_uri": "https://localhost:8080/"
        },
        "id": "236LE-rFpaJo",
        "outputId": "47f81374-1518-4a7c-ff7c-cd5ba7eba5f6"
      },
      "execution_count": 29,
      "outputs": [
        {
          "output_type": "stream",
          "name": "stdout",
          "text": [
            "Epoch 1/10\n",
            "468/468 [==============================] - 29s 62ms/step - loss: 0.4688 - accuracy: 0.8338 - val_loss: 0.3513 - val_accuracy: 0.8757\n",
            "Epoch 2/10\n",
            "468/468 [==============================] - 29s 61ms/step - loss: 0.3225 - accuracy: 0.8839 - val_loss: 0.3237 - val_accuracy: 0.8850\n",
            "Epoch 3/10\n",
            "468/468 [==============================] - 29s 63ms/step - loss: 0.2948 - accuracy: 0.8928 - val_loss: 0.3059 - val_accuracy: 0.8925\n",
            "Epoch 4/10\n",
            "468/468 [==============================] - 28s 60ms/step - loss: 0.2700 - accuracy: 0.9015 - val_loss: 0.3196 - val_accuracy: 0.8846\n",
            "Epoch 5/10\n",
            "468/468 [==============================] - 28s 60ms/step - loss: 0.2662 - accuracy: 0.9034 - val_loss: 0.3188 - val_accuracy: 0.8915\n",
            "Epoch 6/10\n",
            "468/468 [==============================] - 28s 59ms/step - loss: 0.2516 - accuracy: 0.9091 - val_loss: 0.3076 - val_accuracy: 0.8944\n",
            "Epoch 7/10\n",
            "468/468 [==============================] - 28s 60ms/step - loss: 0.2426 - accuracy: 0.9105 - val_loss: 0.3260 - val_accuracy: 0.8890\n",
            "Epoch 8/10\n",
            "468/468 [==============================] - 32s 68ms/step - loss: 0.2380 - accuracy: 0.9120 - val_loss: 0.3306 - val_accuracy: 0.8916\n",
            "Epoch 9/10\n",
            "468/468 [==============================] - 29s 63ms/step - loss: 0.2322 - accuracy: 0.9161 - val_loss: 0.3246 - val_accuracy: 0.8870\n",
            "Epoch 10/10\n",
            "468/468 [==============================] - 28s 60ms/step - loss: 0.2227 - accuracy: 0.9183 - val_loss: 0.3360 - val_accuracy: 0.8936\n"
          ]
        }
      ]
    },
    {
      "cell_type": "code",
      "source": [
        "plt.plot(history.history['loss'], label=\"Loss\")\n",
        "plt.plot(history.history['accuracy'], label=\"accuracy\")\n",
        "plt.legend()"
      ],
      "metadata": {
        "colab": {
          "base_uri": "https://localhost:8080/",
          "height": 283
        },
        "id": "h8UtScsIrK2Y",
        "outputId": "182a7f99-28e2-4998-ef8d-91e2a3427d8b"
      },
      "execution_count": 30,
      "outputs": [
        {
          "output_type": "execute_result",
          "data": {
            "text/plain": [
              "<matplotlib.legend.Legend at 0x7f36fd87a4d0>"
            ]
          },
          "metadata": {},
          "execution_count": 30
        },
        {
          "output_type": "display_data",
          "data": {
            "text/plain": [
              "<Figure size 432x288 with 1 Axes>"
            ],
            "image/png": "[encoded data removed]"
          },
          "metadata": {
            "needs_background": "light"
          }
        }
      ]
    }
  ],
  "metadata": {
    "kernelspec": {
      "display_name": "Python 3",
      "language": "python",
      "name": "python3"
    },
    "language_info": {
      "codemirror_mode": {
        "name": "ipython",
        "version": 3
      },
      "file_extension": ".py",
      "mimetype": "text/x-python",
      "name": "python",
      "nbconvert_exporter": "python",
      "pygments_lexer": "ipython3",
      "version": "3.8.5"
    },
    "colab": {
      "provenance": []
    }
  },
  "nbformat": 4,
  "nbformat_minor": 0
}